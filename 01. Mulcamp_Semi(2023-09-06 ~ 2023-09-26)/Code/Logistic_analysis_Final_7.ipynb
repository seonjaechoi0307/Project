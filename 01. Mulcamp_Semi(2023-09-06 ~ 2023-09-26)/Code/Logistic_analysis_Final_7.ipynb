{
 "cells": [
  {
   "cell_type": "code",
   "execution_count": 1,
   "metadata": {
    "scrolled": true
   },
   "outputs": [
    {
     "name": "stderr",
     "output_type": "stream",
     "text": [
      "\n",
      "Bad key text.latex.preview in file C:\\Users\\spa84\\anaconda3\\lib\\site-packages\\matplotlib\\mpl-data\\stylelib\\_classic_test.mplstyle, line 123 ('text.latex.preview : False')\n",
      "You probably need to get an updated matplotlibrc file from\n",
      "https://github.com/matplotlib/matplotlib/blob/v3.5.3/matplotlibrc.template\n",
      "or from the matplotlib source distribution\n",
      "\n",
      "Bad key mathtext.fallback_to_cm in file C:\\Users\\spa84\\anaconda3\\lib\\site-packages\\matplotlib\\mpl-data\\stylelib\\_classic_test.mplstyle, line 155 ('mathtext.fallback_to_cm : True  # When True, use symbols from the Computer Modern')\n",
      "You probably need to get an updated matplotlibrc file from\n",
      "https://github.com/matplotlib/matplotlib/blob/v3.5.3/matplotlibrc.template\n",
      "or from the matplotlib source distribution\n",
      "\n",
      "Bad key savefig.jpeg_quality in file C:\\Users\\spa84\\anaconda3\\lib\\site-packages\\matplotlib\\mpl-data\\stylelib\\_classic_test.mplstyle, line 418 ('savefig.jpeg_quality: 95       # when a jpeg is saved, the default quality parameter.')\n",
      "You probably need to get an updated matplotlibrc file from\n",
      "https://github.com/matplotlib/matplotlib/blob/v3.5.3/matplotlibrc.template\n",
      "or from the matplotlib source distribution\n",
      "\n",
      "Bad key keymap.all_axes in file C:\\Users\\spa84\\anaconda3\\lib\\site-packages\\matplotlib\\mpl-data\\stylelib\\_classic_test.mplstyle, line 466 ('keymap.all_axes : a                 # enable all axes')\n",
      "You probably need to get an updated matplotlibrc file from\n",
      "https://github.com/matplotlib/matplotlib/blob/v3.5.3/matplotlibrc.template\n",
      "or from the matplotlib source distribution\n",
      "\n",
      "Bad key animation.avconv_path in file C:\\Users\\spa84\\anaconda3\\lib\\site-packages\\matplotlib\\mpl-data\\stylelib\\_classic_test.mplstyle, line 477 ('animation.avconv_path: avconv     # Path to avconv binary. Without full path')\n",
      "You probably need to get an updated matplotlibrc file from\n",
      "https://github.com/matplotlib/matplotlib/blob/v3.5.3/matplotlibrc.template\n",
      "or from the matplotlib source distribution\n",
      "\n",
      "Bad key animation.avconv_args in file C:\\Users\\spa84\\anaconda3\\lib\\site-packages\\matplotlib\\mpl-data\\stylelib\\_classic_test.mplstyle, line 479 ('animation.avconv_args:            # Additional arguments to pass to avconv')\n",
      "You probably need to get an updated matplotlibrc file from\n",
      "https://github.com/matplotlib/matplotlib/blob/v3.5.3/matplotlibrc.template\n",
      "or from the matplotlib source distribution\n"
     ]
    }
   ],
   "source": [
    "import pandas as pd\n",
    "import numpy as np\n",
    "import statsmodels.api as sm\n",
    "import statsmodels.stats.api as sms\n",
    "from scipy import stats\n",
    "import matplotlib.pyplot as plt\n",
    "import plotly.express as px\n",
    "import scipy\n",
    "import seaborn as sns\n",
    "from sklearn.preprocessing import MinMaxScaler, StandardScaler\n",
    "from statsmodels.stats.outliers_influence import variance_inflation_factor\n",
    "import math\n",
    "import warnings\n",
    "from sklearn.model_selection import train_test_split\n",
    "from sklearn.linear_model import LogisticRegression\n",
    "from sklearn.feature_selection import SelectFromModel\n",
    "import random\n",
    "from imblearn.over_sampling import RandomOverSampler\n",
    "from sklearn.model_selection import learning_curve"
   ]
  },
  {
   "cell_type": "code",
   "execution_count": 2,
   "metadata": {},
   "outputs": [],
   "source": [
    "warnings.simplefilter('ignore')"
   ]
  },
  {
   "cell_type": "code",
   "execution_count": 25,
   "metadata": {},
   "outputs": [],
   "source": [
    "df = pd.read_csv('./data/Before_Encoding_5000.csv', encoding='euc-kr')"
   ]
  },
  {
   "cell_type": "code",
   "execution_count": 26,
   "metadata": {
    "scrolled": true
   },
   "outputs": [
    {
     "name": "stdout",
     "output_type": "stream",
     "text": [
      "<class 'pandas.core.frame.DataFrame'>\n",
      "RangeIndex: 5000 entries, 0 to 4999\n",
      "Data columns (total 19 columns):\n",
      " #   Column                       Non-Null Count  Dtype  \n",
      "---  ------                       --------------  -----  \n",
      " 0   Building_Age                 5000 non-null   int64  \n",
      " 1   JS_Price                     5000 non-null   int64  \n",
      " 2   JS_BA                        5000 non-null   float64\n",
      " 3   Population                   5000 non-null   int64  \n",
      " 4   UR                           5000 non-null   float64\n",
      " 5   LC_index                     5000 non-null   float64\n",
      " 6   CA_index                     5000 non-null   float64\n",
      " 7   TC_index                     5000 non-null   float64\n",
      " 8   SDT_index                    5000 non-null   float64\n",
      " 9   HSP_index                    5000 non-null   float64\n",
      " 10  Sell_Price                   5000 non-null   float64\n",
      " 11  Crime_Rates                  5000 non-null   float64\n",
      " 12  IR                           5000 non-null   float64\n",
      " 13  Region_Name                  5000 non-null   object \n",
      " 14  Building_Use                 5000 non-null   object \n",
      " 15  YearMonth                    5000 non-null   int64  \n",
      " 16  Shortest_Distance_to_Subway  5000 non-null   float64\n",
      " 17  Shortest_Distance_to_School  5000 non-null   float64\n",
      " 18  Shortest_Distance_to_Univ    5000 non-null   float64\n",
      "dtypes: float64(13), int64(4), object(2)\n",
      "memory usage: 742.3+ KB\n"
     ]
    }
   ],
   "source": [
    "df.info()"
   ]
  },
  {
   "cell_type": "markdown",
   "metadata": {},
   "source": [
    "## Categorical:\n",
    "\n",
    "- Nominal(variables that have two or more categories, but which do not have an intrinsic order.)\n",
    "\n",
    "    - Region_Name : 자치구 명\n",
    "    - Building_Use : 건물 용도\n",
    "    \n",
    "- Ordinal(variables that have two or more categories just like nominal variables. Only the categories can also be ordered or ranked.)\n",
    "\n",
    "    \n",
    "## Numeric:\n",
    "\n",
    "- Discrete\n",
    "    - YearMonth : 년월\n",
    "    - Building_Age : 건물연식\n",
    "    - JS_Price : 전세가\n",
    "   \n",
    "- Continous\n",
    "    - Sell_Price : 매매 가격\n",
    "    - JS_BA = JS_Building Area : 임대 면적\n",
    "    - lR = Interest Rate : 금리\n",
    "    - UR = Unemployment Rate : 실업률\n",
    "    - LC_index = Leading Composite index : 선행종합 지수\n",
    "    - CA_index = Comprehensive Accompany index : 동행종합 지수\n",
    "    - TC_index = Trailing Composite index : 후행종합 지수\n",
    "    - SDT_index = Supply and Demand Trend index = 전세수급동향 지수\n",
    "    - HSP_index = \n",
    "    - Population : 인구수\n",
    "    - Crime_Rates : 범죄율\n",
    "    - Shortest_Distance_to_Subway : 가장 가까운 지하철역과의 거리\n",
    "    - Shortest_Distance_to_School : 가장 가까운 초중고등학교와의 거리\n",
    "    - Shortest_Distance_to_Univ : 가장 가까운 대학교와의 거리\n",
    "    - Shortest_Distance_to_Park : 가장 가까운 공원과의 거리\n",
    "    "
   ]
  },
  {
   "cell_type": "markdown",
   "metadata": {},
   "source": [
    "## 데이터 전처리"
   ]
  },
  {
   "cell_type": "code",
   "execution_count": 27,
   "metadata": {},
   "outputs": [],
   "source": [
    "# 범주형 변수 리스트 지정\n",
    "categorical_columns = ['Building_Use', 'Region_Name']\n",
    "target_column = 'JS_Price'\n",
    "\n",
    "# 데이터 분할\n",
    "train_data, test_data = train_test_split(df, test_size=0.2, random_state=42)\n",
    "\n",
    "# 학습 데이터에서 각 범주의 평균 타겟 값 계산\n",
    "for categorical_column in categorical_columns:\n",
    "    encoding_map = train_data.groupby(categorical_column)['JS_Price'].mean().to_dict()\n",
    "    \n",
    "    # 학습 데이터에 타겟 인코딩 적용\n",
    "    train_data[categorical_column + '_encoded'] = train_data[categorical_column].map(encoding_map)\n",
    "    \n",
    "    # 기존 범주형 변수 삭제\n",
    "    train_data.drop(columns=[categorical_column], inplace=True)\n",
    "\n",
    "# 테스트 데이터에도 동일한 인코딩 매핑을 적용\n",
    "for categorical_column in categorical_columns:\n",
    "    test_data[categorical_column + '_encoded'] = test_data[categorical_column].map(encoding_map)\n",
    "    \n",
    "    # 기존 범주형 변수 삭제\n",
    "    test_data.drop(columns=[categorical_column], inplace=True)"
   ]
  },
  {
   "cell_type": "code",
   "execution_count": 28,
   "metadata": {},
   "outputs": [
    {
     "name": "stdout",
     "output_type": "stream",
     "text": [
      "각 클래스의 최솟값과 최댓값:\n",
      "                      min     max\n",
      "JS_Price_Category                \n",
      "0                    1476   65000\n",
      "1                   65700  125000\n",
      "2                  130000  190000\n",
      "3                  195000  250000\n",
      "4                  305000  320000\n"
     ]
    }
   ],
   "source": [
    "# JS_Price를 4개의 범주로 나눔\n",
    "train_data['JS_Price_Category'] = pd.cut(train_data['JS_Price'], bins=5, labels=False)\n",
    "test_data['JS_Price_Category'] = pd.cut(test_data['JS_Price'], bins=5, labels=False)\n",
    "\n",
    "# 각 구간의 경계값을 구함\n",
    "bin_edges = pd.cut(df['JS_Price'], bins=bins).unique()\n",
    "\n",
    "# 결과 출력\n",
    "print(\"구간의 경계값:\")\n",
    "print(bin_edges)\n",
    "\n",
    "# 기존 변수 삭제\n",
    "train_data.drop('JS_Price', axis=1, inplace=True)\n",
    "test_data.drop('JS_Price', axis=1, inplace=True)\n",
    "\n",
    "# 오버샘플링할 데이터와 레이블을 준비합니다.\n",
    "X_train = train_data.drop('JS_Price_Category', axis=1)  # 독립변수\n",
    "Y_train = train_data['JS_Price_Category']  # 종속변수\n",
    "X_test = test_data.drop('JS_Price_Category', axis=1)  # 테스트 독립변수\n",
    "Y_test = test_data['JS_Price_Category']  # 테스트 종속변수\n",
    "\n",
    "# RandomOverSampler를 초기화합니다.\n",
    "oversampler = RandomOverSampler(sampling_strategy='auto', random_state=42)\n",
    "\n",
    "# 오버샘플링을 적용합니다(테스트 데이터는 일반화 성능 평가를 위해 적용X)\n",
    "X_train_resampled, Y_train_resampled = oversampler.fit_resample(X_train, Y_train)\n",
    "\n",
    "# 오버샘플링된 데이터를 새로운 데이터프레임으로 만듭니다.\n",
    "train_data_resampled = pd.concat([X_train_resampled, Y_train_resampled], axis=1)"
   ]
  },
  {
   "cell_type": "markdown",
   "metadata": {},
   "source": [
    "## Logistic Regression Analysis"
   ]
  },
  {
   "cell_type": "code",
   "execution_count": 8,
   "metadata": {},
   "outputs": [],
   "source": [
    "selected_features = ['CA_index',\n",
    "'Shortest_Distance_to_School',\n",
    "'HSP_index',\n",
    "'TC_index',\n",
    "'IR',\n",
    "'SDT_index',\n",
    "'UR']"
   ]
  },
  {
   "cell_type": "code",
   "execution_count": 9,
   "metadata": {
    "scrolled": true
   },
   "outputs": [
    {
     "name": "stdout",
     "output_type": "stream",
     "text": [
      "모델 정확도 : 0.552 \n",
      "\n",
      "---예측된 클래스--- \n",
      " [0 0 4 1 0 1 1 0 0 0 0 3 0 3 0 0 0 3 0 2 4 3 0 1 0 0 3 3 0 0 4 3 3 0 0 3 0\n",
      " 0 3 0 4 3 0 4 3 3 3 4 0 0 0 3 0 0 3 0 0 0 3 0 0 0 0 0 0 1 0 0 0 4 0 0 0 3\n",
      " 2 0 0 1 0 0 2 0 0 3 2 4 0 2 0 0 0 0 0 0 4 3 0 0 3 0 0 4 0 4 1 1 0 0 3 0 0\n",
      " 4 0 3 3 0 0 3 0 3 0 0 3 0 0 1 0 0 3 0 0 0 0 3 3 0 1 0 4 3 1 0 3 0 0 0 0 3\n",
      " 0 4 1 0 0 0 3 4 1 1 3 4 0 1 0 3 1 0 0 0 3 1 0 0 1 0 0 4 0 0 2 3 0 0 0 4 3\n",
      " 3 1 2 0 0 0 0 1 0 1 4 0 1 2 0 0 0 3 4 0 3 4 0 0 3 4 3 0 0 0 3 2 3 3 0 0 0\n",
      " 0 0 0 3 0 0 3 2 1 0 1 0 0 3 0 3 1 0 0 3 0 2 3 4 0 4 4 1 0 1 0 3 0 0 3 0 3\n",
      " 3 1 0 0 0 4 3 1 3 0 0 1 0 3 1 0 0 0 4 0 3 4 4 0 0 0 0 0 4 0 4 0 3 0 0 0 3\n",
      " 0 2 4 0 0 0 0 0 0 4 0 1 4 0 0 1 4 0 4 0 0 1 0 0 0 0 0 0 0 0 0 3 3 0 0 0 0\n",
      " 0 0 0 0 0 4 3 0 3 0 0 0 0 0 0 3 0 3 1 4 3 0 1 1 0 1 0 0 3 0 0 3 1 0 0 3 0\n",
      " 1 1 0 0 0 0 3 1 0 1 0 0 0 0 0 0 0 1 1 0 0 1 1 4 3 3 4 1 0 0 0 1 4 3 0 1 0\n",
      " 0 0 2 1 0 0 3 0 0 3 4 0 0 3 4 4 0 3 3 3 0 0 2 0 0 1 1 2 0 0 0 0 3 3 0 2 0\n",
      " 3 3 0 3 0 0 0 0 0 0 3 0 4 0 0 0 0 4 1 0 3 0 1 0 1 0 0 3 1 3 0 4 0 0 4 3 0\n",
      " 0 0 0 2 0 0 0 1 4 0 4 0 0 3 0 1 0 0 3 0 3 0 3 0 1 0 2 2 3 0 0 3 4 0 0 0 0\n",
      " 0 3 0 4 0 0 0 2 0 0 1 3 2 0 4 0 4 3 0 3 0 0 3 0 0 0 0 0 0 0 1 4 0 0 0 3 3\n",
      " 1 0 0 0 0 0 1 1 2 0 0 0 0 0 0 3 0 4 0 3 3 4 0 0 3 0 3 0 0 0 0 0 1 4 0 4 0\n",
      " 3 0 0 0 3 1 0 3 1 0 0 0 0 0 0 4 0 3 0 4 0 0 3 0 0 0 4 0 3 2 1 0 1 0 0 0 0\n",
      " 4 0 0 0 3 0 0 0 0 4 0 0 0 3 3 3 0 0 1 4 3 1 3 0 0 0 3 3 0 4 0 0 2 0 0 0 3\n",
      " 0 0 1 0 0 4 0 0 0 0 0 0 0 0 0 3 4 3 1 0 0 0 1 0 3 3 1 0 4 4 0 0 1 0 0 0 4\n",
      " 0 1 0 3 0 0 0 4 1 0 0 0 1 0 3 1 2 1 4 0 0 0 0 0 0 3 0 0 0 4 0 3 0 0 0 3 3\n",
      " 4 2 0 0 0 0 3 3 4 0 4 1 0 0 4 0 3 0 0 4 0 4 0 4 3 0 0 0 0 0 0 0 0 0 0 0 3\n",
      " 0 0 3 0 0 0 4 3 0 4 0 0 0 3 0 0 1 0 1 0 4 0 0 0 3 3 0 0 3 3 0 3 0 0 0 1 0\n",
      " 0 0 1 4 0 0 3 0 1 3 0 0 1 0 3 0 1 0 0 0 0 0 0 3 1 0 0 3 2 0 3 0 1 0 1 3 0\n",
      " 0 3 0 3 1 0 1 0 0 1 0 0 0 0 0 2 3 0 0 0 0 0 1 0 0 4 0 0 0 0 0 1 0 0 0 0 0\n",
      " 3 0 0 0 0 0 1 3 0 0 0 0 0 0 0 0 0 0 0 3 0 0 4 4 0 0 0 0 0 0 3 0 2 0 2 0 4\n",
      " 0 0 1 1 0 0 0 0 0 0 0 4 0 1 0 3 0 0 1 0 0 0 3 0 3 0 3 4 3 3 4 0 0 0 0 2 3\n",
      " 0 0 0 1 0 1 0 3 0 0 0 3 0 0 0 0 2 0 1 3 0 3 3 0 0 1 3 1 0 0 0 0 0 0 3 1 1\n",
      " 3] \n",
      "\n",
      "---클래스별 확률--- \n",
      " [[7.36973648e-01 1.57573627e-01 1.03058719e-01 2.11833593e-03\n",
      "  2.75670261e-04]\n",
      " [2.98511903e-01 2.67395347e-01 1.68201428e-01 1.90861134e-01\n",
      "  7.50301875e-02]\n",
      " [2.73731747e-02 8.84819815e-02 2.14637242e-01 2.45549281e-01\n",
      "  4.23958321e-01]\n",
      " ...\n",
      " [3.21708204e-01 3.96688577e-01 1.52647375e-01 1.01087922e-01\n",
      "  2.78679230e-02]\n",
      " [1.97697010e-01 2.98256336e-01 1.86383987e-01 2.72554521e-01\n",
      "  4.51081463e-02]\n",
      " [2.52003917e-01 2.47401164e-01 1.95817334e-01 3.01874599e-01\n",
      "  2.90298563e-03]]\n"
     ]
    }
   ],
   "source": [
    "# 독립 변수 선택\n",
    "X_train_resampled = train_data_resampled[selected_features]\n",
    "\n",
    "# 테스트 데이터에 대해 동일한 특성 선택 적용\n",
    "X_test = X_test[selected_features]\n",
    "\n",
    "# 데이터 표준화 (선택적)\n",
    "scaler = StandardScaler()\n",
    "X_train_resampled = scaler.fit_transform(X_train_resampled)\n",
    "X_test = scaler.transform(X_test)\n",
    "\n",
    "# 다항 로지스틱 회귀 모델 생성\n",
    "model = LogisticRegression(multi_class='multinomial', solver='lbfgs')\n",
    "model.fit(X_train_resampled, Y_train_resampled)\n",
    "\n",
    "# 모델 평가 (정확도 계산)\n",
    "accuracy = model.score(X_test, Y_test)\n",
    "print(f\"모델 정확도 : {accuracy}\", '\\n')\n",
    "\n",
    "# 각 클래스에 속할 확률 예측\n",
    "probabilities = model.predict_proba(X_test)\n",
    "\n",
    "# 예측 결과 클래스 (가장 높은 확률을 갖는 클래스 선택)\n",
    "predicted_classes = model.predict(X_test)\n",
    "\n",
    "# 예측된 클래스 및 확률 출력\n",
    "print(\"---예측된 클래스---\", '\\n', predicted_classes, '\\n')\n",
    "print(\"---클래스별 확률---\", '\\n', probabilities)"
   ]
  },
  {
   "cell_type": "markdown",
   "metadata": {},
   "source": [
    "## 교차검증\n",
    "- data leakage 확인을 위해 교차검증 실행"
   ]
  },
  {
   "cell_type": "code",
   "execution_count": 10,
   "metadata": {},
   "outputs": [
    {
     "name": "stdout",
     "output_type": "stream",
     "text": [
      "Fold 1 정확도: 0.3823121707790407\n",
      "Fold 1 분류 보고서:\n",
      "              precision    recall  f1-score   support\n",
      "\n",
      "           0       0.57      0.61      0.59       722\n",
      "           1       0.25      0.14      0.18       721\n",
      "           2       0.28      0.07      0.11       722\n",
      "           3       0.32      0.56      0.40       721\n",
      "           4       0.40      0.53      0.46       721\n",
      "\n",
      "    accuracy                           0.38      3607\n",
      "   macro avg       0.36      0.38      0.35      3607\n",
      "weighted avg       0.36      0.38      0.35      3607\n",
      "\n",
      "Fold 2 정확도: 0.4006099251455503\n",
      "Fold 2 분류 보고서:\n",
      "              precision    recall  f1-score   support\n",
      "\n",
      "           0       0.60      0.59      0.59       722\n",
      "           1       0.28      0.16      0.21       721\n",
      "           2       0.33      0.10      0.16       721\n",
      "           3       0.34      0.66      0.45       722\n",
      "           4       0.42      0.49      0.45       721\n",
      "\n",
      "    accuracy                           0.40      3607\n",
      "   macro avg       0.39      0.40      0.37      3607\n",
      "weighted avg       0.39      0.40      0.37      3607\n",
      "\n",
      "Fold 3 정확도: 0.38896589963958966\n",
      "Fold 3 분류 보고서:\n",
      "              precision    recall  f1-score   support\n",
      "\n",
      "           0       0.64      0.62      0.63       721\n",
      "           1       0.26      0.15      0.19       722\n",
      "           2       0.35      0.10      0.16       721\n",
      "           3       0.30      0.55      0.39       722\n",
      "           4       0.39      0.52      0.45       721\n",
      "\n",
      "    accuracy                           0.39      3607\n",
      "   macro avg       0.39      0.39      0.36      3607\n",
      "weighted avg       0.39      0.39      0.36      3607\n",
      "\n",
      "Fold 4 정확도: 0.41142223454394233\n",
      "Fold 4 분류 보고서:\n",
      "              precision    recall  f1-score   support\n",
      "\n",
      "           0       0.65      0.61      0.63       721\n",
      "           1       0.25      0.15      0.18       722\n",
      "           2       0.38      0.10      0.16       721\n",
      "           3       0.34      0.68      0.45       721\n",
      "           4       0.43      0.53      0.48       722\n",
      "\n",
      "    accuracy                           0.41      3607\n",
      "   macro avg       0.41      0.41      0.38      3607\n",
      "weighted avg       0.41      0.41      0.38      3607\n",
      "\n",
      "Fold 5 정확도: 0.3936789575824785\n",
      "Fold 5 분류 보고서:\n",
      "              precision    recall  f1-score   support\n",
      "\n",
      "           0       0.63      0.63      0.63       721\n",
      "           1       0.24      0.18      0.20       721\n",
      "           2       0.34      0.09      0.14       722\n",
      "           3       0.32      0.56      0.40       721\n",
      "           4       0.43      0.51      0.46       722\n",
      "\n",
      "    accuracy                           0.39      3607\n",
      "   macro avg       0.39      0.39      0.37      3607\n",
      "weighted avg       0.39      0.39      0.37      3607\n",
      "\n",
      "교차 검증 정확도: [0.3823121707790407, 0.4006099251455503, 0.38896589963958966, 0.41142223454394233, 0.3936789575824785]\n",
      "평균 교차 검증 정확도: 0.39539783753812036\n"
     ]
    }
   ],
   "source": [
    "from sklearn.model_selection import StratifiedKFold\n",
    "from sklearn.metrics import classification_report\n",
    "\n",
    "# StratifiedKFold를 사용하여 k-폴드 교차 검증 설정\n",
    "kf = StratifiedKFold(n_splits=5, shuffle=True, random_state=42)\n",
    "\n",
    "# 교차 검증 수행 및 결과 저장\n",
    "cv_scores = []\n",
    "for i, (train_idx, val_idx) in enumerate(kf.split(X_train_resampled, Y_train_resampled), 1):\n",
    "    fold_X_train, fold_X_val = X_train_resampled[train_idx], X_train_resampled[val_idx]\n",
    "    fold_Y_train, fold_Y_val = Y_train_resampled[train_idx], Y_train_resampled[val_idx]\n",
    "    \n",
    "    model.fit(fold_X_train, fold_Y_train)\n",
    "    fold_Y_pred = model.predict(fold_X_val)\n",
    "    \n",
    "    fold_accuracy = model.score(fold_X_val, fold_Y_val)\n",
    "    cv_scores.append(fold_accuracy)\n",
    "    \n",
    "    print(f\"Fold {i} 정확도: {fold_accuracy}\")\n",
    "    print(f\"Fold {i} 분류 보고서:\\n{classification_report(fold_Y_val, fold_Y_pred)}\")\n",
    "\n",
    "# 교차 검증 결과 출력\n",
    "print(\"교차 검증 정확도:\", cv_scores)\n",
    "print(\"평균 교차 검증 정확도:\", sum(cv_scores) / len(cv_scores))"
   ]
  },
  {
   "cell_type": "markdown",
   "metadata": {},
   "source": [
    "## Training and validaion accuracy\n",
    "- 학습곡선으로 데이터 크기 증가에 따른 훈련데이터와 검증 데이터의 정확도를 그림으로써 모델의 과적합을 시각적으로 확인"
   ]
  },
  {
   "cell_type": "code",
   "execution_count": 11,
   "metadata": {},
   "outputs": [
    {
     "data": {
      "image/png": "[encoded data removed]",
      "text/plain": [
       "<Figure size 432x288 with 1 Axes>"
      ]
     },
     "metadata": {
      "needs_background": "light"
     },
     "output_type": "display_data"
    }
   ],
   "source": [
    "# 학습 곡선을 그리는 함수 정의\n",
    "def plot_learning_curve(estimator, title, X, y, ylim=None, cv=None, n_jobs=None, train_sizes=np.linspace(.1, 1.0, 5)):\n",
    "    plt.figure()\n",
    "    plt.title(title)\n",
    "    if ylim is not None:\n",
    "        plt.ylim(*ylim)\n",
    "    plt.xlabel(\"Training examples\")\n",
    "    plt.ylabel(\"Score\")\n",
    "    train_sizes, train_scores, test_scores = learning_curve(\n",
    "        estimator, X, y, cv=cv, n_jobs=n_jobs, train_sizes=train_sizes)\n",
    "    train_scores_mean = np.mean(train_scores, axis=1)\n",
    "    train_scores_std = np.std(train_scores, axis=1)\n",
    "    test_scores_mean = np.mean(test_scores, axis=1)\n",
    "    test_scores_std = np.std(test_scores, axis=1)\n",
    "    plt.grid()\n",
    "\n",
    "    plt.fill_between(train_sizes, train_scores_mean - train_scores_std,\n",
    "                     train_scores_mean + train_scores_std, alpha=0.1,\n",
    "                     color=\"r\")\n",
    "    plt.fill_between(train_sizes, test_scores_mean - test_scores_std,\n",
    "                     test_scores_mean + test_scores_std, alpha=0.1, color=\"g\")\n",
    "    plt.plot(train_sizes, train_scores_mean, 'o-', color=\"r\",\n",
    "             label=\"Training score\")\n",
    "    plt.plot(train_sizes, test_scores_mean, 'o-', color=\"g\",\n",
    "             label=\"Cross-validation score\")\n",
    "\n",
    "    plt.legend(loc=\"best\")\n",
    "    return plt\n",
    "\n",
    "# 학습 곡선 그리기\n",
    "title = \"Learning Curves (Logistic Regression)\"\n",
    "# 모델은 이미 훈련되었다고 가정합니다 (model 변수에 저장되어 있음)\n",
    "plot_learning_curve(model, title, X_train_resampled, Y_train_resampled, cv=5, n_jobs=1)\n",
    "\n",
    "plt.show()"
   ]
  },
  {
   "cell_type": "markdown",
   "metadata": {},
   "source": [
    "## 변수선택법\n",
    "- 모델의 복잡성이 줄어든 상태에서 통계적 유의성을 고려하여 변수선택을 위해 다중공선성과 p-value 체크"
   ]
  },
  {
   "cell_type": "markdown",
   "metadata": {},
   "source": [
    "### 다중공선성"
   ]
  },
  {
   "cell_type": "code",
   "execution_count": 12,
   "metadata": {
    "scrolled": true
   },
   "outputs": [
    {
     "name": "stdout",
     "output_type": "stream",
     "text": [
      "독립 변수별 VIF:\n",
      "                      Features    VIF\n",
      "0                     CA_index  102.0\n",
      "1  Shortest_Distance_to_School    1.0\n",
      "2                    HSP_index    9.0\n",
      "3                     TC_index  118.0\n",
      "4                           IR    5.0\n",
      "5                    SDT_index    4.0\n",
      "6                           UR    1.0\n"
     ]
    }
   ],
   "source": [
    "# X_train_resampled을 DataFrame으로 변환\n",
    "X_train_resampled_df = pd.DataFrame(X_train_resampled, columns=selected_features)\n",
    "\n",
    "# 각 독립 변수의 VIF 계산\n",
    "vif = pd.DataFrame()\n",
    "vif[\"Features\"] = X_train_resampled_df.columns\n",
    "vif[\"VIF\"] = [round(variance_inflation_factor(X_train_resampled_df.values, i), 0) for i in range(X_train_resampled_df.shape[1])]\n",
    "\n",
    "print(\"독립 변수별 VIF:\")\n",
    "print(vif)"
   ]
  },
  {
   "cell_type": "markdown",
   "metadata": {},
   "source": [
    "- VIF값 5를 기준으로 높으면 변수에서 제거할 요인으로 본다면 HSP_index, CA_index, TC_index를 제외한다."
   ]
  },
  {
   "cell_type": "markdown",
   "metadata": {},
   "source": [
    "### p-value"
   ]
  },
  {
   "cell_type": "code",
   "execution_count": 13,
   "metadata": {
    "scrolled": false
   },
   "outputs": [
    {
     "name": "stdout",
     "output_type": "stream",
     "text": [
      "Optimization terminated successfully.\n",
      "         Current function value: 1.344762\n",
      "         Iterations 8\n",
      "P-values for independent variables:\n",
      "                                        0             1              2  \\\n",
      "const                        1.751492e-40  6.051743e-42   5.210171e-01   \n",
      "CA_index                     7.105189e-03  1.846877e-04   4.958019e-43   \n",
      "Shortest_Distance_to_School  1.665322e-53  4.463683e-84  1.099439e-100   \n",
      "HSP_index                    3.442084e-01  9.100571e-30   1.123095e-04   \n",
      "TC_index                     1.378193e-07  6.044611e-02   1.252231e-08   \n",
      "IR                           4.370782e-11  5.293402e-01   4.237696e-03   \n",
      "SDT_index                    1.903892e-01  2.346884e-01   6.865389e-01   \n",
      "UR                           3.298071e-02  1.529284e-14   3.699376e-05   \n",
      "\n",
      "                                         3  \n",
      "const                         6.338210e-28  \n",
      "CA_index                      6.813279e-79  \n",
      "Shortest_Distance_to_School  8.372018e-154  \n",
      "HSP_index                     4.435753e-18  \n",
      "TC_index                      3.129599e-52  \n",
      "IR                            4.207563e-06  \n",
      "SDT_index                     6.841984e-32  \n",
      "UR                            6.910584e-31  \n"
     ]
    }
   ],
   "source": [
    "# 독립 변수를 데이터프레임으로 변환\n",
    "X_train_resampled_df = pd.DataFrame(X_train_resampled, columns=selected_features)\n",
    "\n",
    "# 다항 로지스틱 회귀 모델 생성 (상수항 추가)\n",
    "X_train_resampled_df = sm.add_constant(X_train_resampled_df)\n",
    "model = sm.MNLogit(Y_train_resampled, X_train_resampled_df)\n",
    "\n",
    "# 모델 피팅\n",
    "result = model.fit()\n",
    "\n",
    "# 독립 변수들의 p-value 추출\n",
    "p_values = result.pvalues\n",
    "\n",
    "# 결과 출력\n",
    "print(\"P-values for independent variables:\")\n",
    "print(p_values)"
   ]
  },
  {
   "cell_type": "markdown",
   "metadata": {},
   "source": [
    "- a=0.1일 때, p-value값을 고려하면 IR, SDT_index, HSP_index을 제외한다."
   ]
  },
  {
   "cell_type": "markdown",
   "metadata": {},
   "source": [
    "## 최종결론\n",
    "- Features_Ranking의 17가지 변수 중 상위 10가지를 제외한 7가지 변수에 대해 VIF와 Logistic Regression Analysis를 진행한다.\n",
    "    - VIF와 Logistit Regression의 p-value값의 공통 제거요인인 HSP_index\n",
    "    - VIF가 지나치게 높은 CA_index, Features_Ranking에서 최하위에 속하는 UR\n",
    "    - 위의 세가지 요인(HSP_index, CA_index, UR)을 변수에서 제거하여 머신러닝을 진행한다."
   ]
  }
 ],
 "metadata": {
  "colab": {
   "provenance": []
  },
  "kernelspec": {
   "display_name": "Python 3",
   "language": "python",
   "name": "python3"
  },
  "language_info": {
   "codemirror_mode": {
    "name": "ipython",
    "version": 3
   },
   "file_extension": ".py",
   "mimetype": "text/x-python",
   "name": "python",
   "nbconvert_exporter": "python",
   "pygments_lexer": "ipython3",
   "version": "3.7.6"
  }
 },
 "nbformat": 4,
 "nbformat_minor": 1
}
