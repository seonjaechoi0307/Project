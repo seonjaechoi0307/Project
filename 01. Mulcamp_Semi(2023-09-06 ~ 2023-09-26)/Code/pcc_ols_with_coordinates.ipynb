{
  "nbformat": 4,
  "nbformat_minor": 0,
  "metadata": {
    "colab": {
      "provenance": [],
      "gpuType": "T4"
    },
    "kernelspec": {
      "name": "python3",
      "display_name": "Python 3"
    },
    "language_info": {
      "name": "python"
    },
    "accelerator": "GPU"
  },
  "cells": [
    {
      "cell_type": "code",
      "source": [
        "!sudo apt-get install -y fonts-nanum\n",
        "!sudo fc-cache -fv\n",
        "!rm ~/.cache/matplotlib -rf\n"
      ],
      "metadata": {
        "colab": {
          "base_uri": "https://localhost:8080/"
        },
        "id": "LJC5LfyF7gxw",
        "outputId": "7ab5a2d1-1bd5-4383-e88e-a7b576152921"
      },
      "execution_count": 1,
      "outputs": [
        {
          "output_type": "stream",
          "name": "stdout",
          "text": [
            "Reading package lists... Done\n",
            "Building dependency tree... Done\n",
            "Reading state information... Done\n",
            "The following NEW packages will be installed:\n",
            "  fonts-nanum\n",
            "0 upgraded, 1 newly installed, 0 to remove and 16 not upgraded.\n",
            "Need to get 10.3 MB of archives.\n",
            "After this operation, 34.1 MB of additional disk space will be used.\n",
            "Get:1 http://archive.ubuntu.com/ubuntu jammy/universe amd64 fonts-nanum all 20200506-1 [10.3 MB]\n",
            "Fetched 10.3 MB in 1s (8,450 kB/s)\n",
            "debconf: unable to initialize frontend: Dialog\n",
            "debconf: (No usable dialog-like program is installed, so the dialog based frontend cannot be used. at /usr/share/perl5/Debconf/FrontEnd/Dialog.pm line 78, <> line 1.)\n",
            "debconf: falling back to frontend: Readline\n",
            "debconf: unable to initialize frontend: Readline\n",
            "debconf: (This frontend requires a controlling tty.)\n",
            "debconf: falling back to frontend: Teletype\n",
            "dpkg-preconfigure: unable to re-open stdin: \n",
            "Selecting previously unselected package fonts-nanum.\n",
            "(Reading database ... 120901 files and directories currently installed.)\n",
            "Preparing to unpack .../fonts-nanum_20200506-1_all.deb ...\n",
            "Unpacking fonts-nanum (20200506-1) ...\n",
            "Setting up fonts-nanum (20200506-1) ...\n",
            "Processing triggers for fontconfig (2.13.1-4.2ubuntu5) ...\n",
            "/usr/share/fonts: caching, new cache contents: 0 fonts, 1 dirs\n",
            "/usr/share/fonts/truetype: caching, new cache contents: 0 fonts, 3 dirs\n",
            "/usr/share/fonts/truetype/humor-sans: caching, new cache contents: 1 fonts, 0 dirs\n",
            "/usr/share/fonts/truetype/liberation: caching, new cache contents: 16 fonts, 0 dirs\n",
            "/usr/share/fonts/truetype/nanum: caching, new cache contents: 12 fonts, 0 dirs\n",
            "/usr/local/share/fonts: caching, new cache contents: 0 fonts, 0 dirs\n",
            "/root/.local/share/fonts: skipping, no such directory\n",
            "/root/.fonts: skipping, no such directory\n",
            "/usr/share/fonts/truetype: skipping, looped directory detected\n",
            "/usr/share/fonts/truetype/humor-sans: skipping, looped directory detected\n",
            "/usr/share/fonts/truetype/liberation: skipping, looped directory detected\n",
            "/usr/share/fonts/truetype/nanum: skipping, looped directory detected\n",
            "/var/cache/fontconfig: cleaning cache directory\n",
            "/root/.cache/fontconfig: not cleaning non-existent cache directory\n",
            "/root/.fontconfig: not cleaning non-existent cache directory\n",
            "fc-cache: succeeded\n"
          ]
        }
      ]
    },
    {
      "cell_type": "code",
      "source": [
        "import pandas as pd\n",
        "import numpy as np\n",
        "import matplotlib.pyplot as plt\n",
        "import seaborn as sns\n"
      ],
      "metadata": {
        "id": "CmCLfagb7jcd"
      },
      "execution_count": 2,
      "outputs": []
    },
    {
      "cell_type": "markdown",
      "source": [
        "#### Bind and analyize each data centering on distances"
      ],
      "metadata": {
        "id": "TGQJdNnUBnMX"
      }
    },
    {
      "cell_type": "code",
      "source": [
        "import pandas as pd\n",
        "from geopy.distance import geodesic\n",
        "import statsmodels.api as sm\n",
        "\n",
        "# Load your real estate data (with latitude and longitude)\n",
        "# Replace 'real_estate_data.csv' with the actual file path or data loading method\n",
        "real_estate_data = pd.read_csv(\"/content/df_lease_deposit_3000.csv\", encoding='euc-kr')\n",
        "\n",
        "# Load your park data (with latitude and longitude)\n",
        "# Replace 'park_data.csv' with the actual file path or data loading method\n",
        "park_data = pd.read_csv(\"/content/공원_전처리.csv\", encoding='euc-kr')\n",
        "\n",
        "# Define a function to calculate distances between each real estate property and nearby parks\n",
        "def calculate_distances(row):\n",
        "    real_estate_coords = (row['위도'], row['경도'])\n",
        "    distances = []\n",
        "    for _, park_row in park_data.iterrows():\n",
        "        park_coords = (park_row['위도'], park_row['경도'])\n",
        "        distance = geodesic(real_estate_coords, park_coords).meters\n",
        "        distances.append(distance)\n",
        "    return distances\n",
        "\n",
        "# Calculate distances from each real estate property to nearby parks\n",
        "real_estate_data['ParkDistances'] = real_estate_data.apply(calculate_distances, axis=1)\n",
        "\n",
        "# Extract features (distances to parks) and target (평당전세가)\n",
        "X = real_estate_data['ParkDistances'].apply(lambda x: sum(x))  # Sum of distances to all parks\n",
        "y = real_estate_data['평당전세가']\n",
        "\n",
        "# Calculate the Pearson Correlation Coefficient (PCC) between the distances and 평당전세가\n",
        "correlation = X.corr(y)\n",
        "print(f\"Pearson Correlation Coefficient: {correlation:.2f}\")\n",
        "\n",
        "# Perform linear regression\n",
        "X = sm.add_constant(X)  # Add a constant term for the intercept\n",
        "model = sm.OLS(y, X)\n",
        "results = model.fit()\n",
        "\n",
        "# Print regression results\n",
        "print(results.summary())\n"
      ],
      "metadata": {
        "colab": {
          "base_uri": "https://localhost:8080/"
        },
        "id": "NDEKpYlsEmz-",
        "outputId": "459ac83d-6541-4fa5-c420-eb194852a8e7"
      },
      "execution_count": 1,
      "outputs": [
        {
          "output_type": "stream",
          "name": "stdout",
          "text": [
            "Pearson Correlation Coefficient: -0.22\n",
            "                            OLS Regression Results                            \n",
            "==============================================================================\n",
            "Dep. Variable:                  평당전세가   R-squared:                       0.046\n",
            "Model:                            OLS   Adj. R-squared:                  0.046\n",
            "Method:                 Least Squares   F-statistic:                     97.45\n",
            "Date:                Sun, 10 Sep 2023   Prob (F-statistic):           1.77e-22\n",
            "Time:                        21:51:59   Log-Likelihood:                -11690.\n",
            "No. Observations:                2011   AIC:                         2.338e+04\n",
            "Df Residuals:                    2009   BIC:                         2.340e+04\n",
            "Df Model:                           1                                         \n",
            "Covariance Type:            nonrobust                                         \n",
            "=================================================================================\n",
            "                    coef    std err          t      P>|t|      [0.025      0.975]\n",
            "---------------------------------------------------------------------------------\n",
            "const           264.6549     11.342     23.335      0.000     242.412     286.897\n",
            "ParkDistances -6.537e-05   6.62e-06     -9.872      0.000   -7.84e-05   -5.24e-05\n",
            "==============================================================================\n",
            "Omnibus:                      425.158   Durbin-Watson:                   2.064\n",
            "Prob(Omnibus):                  0.000   Jarque-Bera (JB):              875.646\n",
            "Skew:                           1.227   Prob(JB):                    7.18e-191\n",
            "Kurtosis:                       5.105   Cond. No.                     1.08e+07\n",
            "==============================================================================\n",
            "\n",
            "Notes:\n",
            "[1] Standard Errors assume that the covariance matrix of the errors is correctly specified.\n",
            "[2] The condition number is large, 1.08e+07. This might indicate that there are\n",
            "strong multicollinearity or other numerical problems.\n"
          ]
        }
      ]
    },
    {
      "cell_type": "code",
      "source": [
        "import pandas as pd\n",
        "from geopy.distance import geodesic\n",
        "import statsmodels.api as sm\n",
        "\n",
        "# Load your real estate data (with latitude and longitude)\n",
        "# Replace 'real_estate_data.csv' with the actual file path or data loading method\n",
        "real_estate_data = pd.read_csv(\"/content/df_lease_deposit_3000.csv\", encoding='euc-kr')\n",
        "\n",
        "# Load your university data (with latitude and longitude)\n",
        "# Replace 'university_data.csv' with the actual file path or data loading method\n",
        "university_data = pd.read_csv(\"/content/대학교_전처리.csv\", encoding='euc-kr')\n",
        "\n",
        "# Define a function to calculate distances between each real estate property and nearby universities\n",
        "def calculate_distances(row):\n",
        "    real_estate_coords = (row['위도'], row['경도'])\n",
        "    distances = []\n",
        "    for _, university_row in university_data.iterrows():\n",
        "        university_coords = (university_row['위도'], university_row['경도'])\n",
        "        distance = geodesic(real_estate_coords, university_coords).meters\n",
        "        distances.append(distance)\n",
        "    return distances\n",
        "\n",
        "# Calculate distances from each real estate property to nearby universities\n",
        "real_estate_data['UniversityDistances'] = real_estate_data.apply(calculate_distances, axis=1)\n",
        "\n",
        "# Extract features (distances to universities) and target (평당전세가)\n",
        "X = real_estate_data['UniversityDistances'].apply(lambda x: sum(x))  # Sum of distances to all universities\n",
        "y = real_estate_data['평당전세가']\n",
        "\n",
        "# Calculate the Pearson Correlation Coefficient (PCC) between the distances and 평당전세가\n",
        "correlation = X.corr(y)\n",
        "print(f\"Pearson Correlation Coefficient: {correlation:.2f}\")\n",
        "\n",
        "# Perform linear regression\n",
        "X = sm.add_constant(X)  # Add a constant term for the intercept\n",
        "model = sm.OLS(y, X)\n",
        "results = model.fit()\n",
        "\n",
        "# Print regression results\n",
        "print(results.summary())\n"
      ],
      "metadata": {
        "colab": {
          "base_uri": "https://localhost:8080/"
        },
        "id": "HpvcISRSFnHt",
        "outputId": "04832f43-f4d3-4371-d49a-3a00be92a15c"
      },
      "execution_count": 7,
      "outputs": [
        {
          "output_type": "stream",
          "name": "stdout",
          "text": [
            "Pearson Correlation Coefficient: -0.10\n",
            "                            OLS Regression Results                            \n",
            "==============================================================================\n",
            "Dep. Variable:                  평당전세가   R-squared:                       0.011\n",
            "Model:                            OLS   Adj. R-squared:                  0.010\n",
            "Method:                 Least Squares   F-statistic:                     21.94\n",
            "Date:                Sun, 10 Sep 2023   Prob (F-statistic):           3.00e-06\n",
            "Time:                        22:51:32   Log-Likelihood:                -11727.\n",
            "No. Observations:                2011   AIC:                         2.346e+04\n",
            "Df Residuals:                    2009   BIC:                         2.347e+04\n",
            "Df Model:                           1                                         \n",
            "Covariance Type:            nonrobust                                         \n",
            "=======================================================================================\n",
            "                          coef    std err          t      P>|t|      [0.025      0.975]\n",
            "---------------------------------------------------------------------------------------\n",
            "const                 192.1905      8.333     23.063      0.000     175.848     208.533\n",
            "UniversityDistances -5.019e-05   1.07e-05     -4.684      0.000   -7.12e-05   -2.92e-05\n",
            "==============================================================================\n",
            "Omnibus:                      441.319   Durbin-Watson:                   2.061\n",
            "Prob(Omnibus):                  0.000   Jarque-Bera (JB):              926.668\n",
            "Skew:                           1.262   Prob(JB):                    5.98e-202\n",
            "Kurtosis:                       5.165   Cond. No.                     3.52e+06\n",
            "==============================================================================\n",
            "\n",
            "Notes:\n",
            "[1] Standard Errors assume that the covariance matrix of the errors is correctly specified.\n",
            "[2] The condition number is large, 3.52e+06. This might indicate that there are\n",
            "strong multicollinearity or other numerical problems.\n"
          ]
        }
      ]
    },
    {
      "cell_type": "code",
      "source": [
        "import pandas as pd\n",
        "from geopy.distance import geodesic\n",
        "import statsmodels.api as sm\n",
        "\n",
        "# Load your real estate data (with latitude and longitude)\n",
        "# Replace 'real_estate_data.csv' with the actual file path or data loading method\n",
        "real_estate_data = pd.read_csv(\"/content/df_lease_deposit_3000.csv\", encoding='euc-kr')\n",
        "\n",
        "# Load your subway data (with latitude and longitude)\n",
        "# Replace 'subway_data.csv' with the actual file path or data loading method\n",
        "subway_data = pd.read_csv(\"/content/지하철_전처리.csv\", encoding='euc-kr')\n",
        "\n",
        "# Define a function to calculate distances between each real estate property and nearby subway stations\n",
        "def calculate_distances(row):\n",
        "    real_estate_coords = (row['위도'], row['경도'])\n",
        "    distances = []\n",
        "    for _, subway_row in subway_data.iterrows():\n",
        "        subway_coords = (subway_row['위도'], subway_row['경도'])\n",
        "        distance = geodesic(real_estate_coords, subway_coords).meters\n",
        "        distances.append(distance)\n",
        "    return distances\n",
        "\n",
        "# Calculate distances from each real estate property to nearby subway stations\n",
        "real_estate_data['SubwayDistances'] = real_estate_data.apply(calculate_distances, axis=1)\n",
        "\n",
        "# Extract features (distances to subway stations) and target (평당전세가)\n",
        "X = real_estate_data['SubwayDistances'].apply(lambda x: sum(x))  # Sum of distances to all subway stations\n",
        "y = real_estate_data['평당전세가']\n",
        "\n",
        "# Calculate the Pearson Correlation Coefficient (PCC) between the distances and 평당전세가\n",
        "correlation = X.corr(y)\n",
        "print(f\"Pearson Correlation Coefficient: {correlation:.2f}\")\n",
        "\n",
        "# Perform linear regression\n",
        "X = sm.add_constant(X)  # Add a constant term for the intercept\n",
        "model = sm.OLS(y, X)\n",
        "results = model.fit()\n",
        "\n",
        "# Print regression results\n",
        "print(results.summary())\n"
      ],
      "metadata": {
        "colab": {
          "base_uri": "https://localhost:8080/"
        },
        "id": "sf103loZFn7w",
        "outputId": "016c24d2-80b4-4759-e1b6-35469dfb8e83"
      },
      "execution_count": 8,
      "outputs": [
        {
          "output_type": "stream",
          "name": "stdout",
          "text": [
            "Pearson Correlation Coefficient: -0.26\n",
            "                            OLS Regression Results                            \n",
            "==============================================================================\n",
            "Dep. Variable:                  평당전세가   R-squared:                       0.070\n",
            "Model:                            OLS   Adj. R-squared:                  0.069\n",
            "Method:                 Least Squares   F-statistic:                     150.9\n",
            "Date:                Sun, 10 Sep 2023   Prob (F-statistic):           1.73e-33\n",
            "Time:                        22:53:51   Log-Likelihood:                -11665.\n",
            "No. Observations:                2011   AIC:                         2.333e+04\n",
            "Df Residuals:                    2009   BIC:                         2.335e+04\n",
            "Df Model:                           1                                         \n",
            "Covariance Type:            nonrobust                                         \n",
            "===================================================================================\n",
            "                      coef    std err          t      P>|t|      [0.025      0.975]\n",
            "-----------------------------------------------------------------------------------\n",
            "const             259.6475      8.775     29.590      0.000     242.439     276.856\n",
            "SubwayDistances -3.193e-05    2.6e-06    -12.283      0.000    -3.7e-05   -2.68e-05\n",
            "==============================================================================\n",
            "Omnibus:                      407.081   Durbin-Watson:                   2.066\n",
            "Prob(Omnibus):                  0.000   Jarque-Bera (JB):              811.357\n",
            "Skew:                           1.193   Prob(JB):                    6.55e-177\n",
            "Kurtosis:                       4.997   Cond. No.                     1.66e+07\n",
            "==============================================================================\n",
            "\n",
            "Notes:\n",
            "[1] Standard Errors assume that the covariance matrix of the errors is correctly specified.\n",
            "[2] The condition number is large, 1.66e+07. This might indicate that there are\n",
            "strong multicollinearity or other numerical problems.\n"
          ]
        }
      ]
    },
    {
      "cell_type": "code",
      "source": [
        "import pandas as pd\n",
        "from geopy.distance import geodesic\n",
        "import statsmodels.api as sm\n",
        "\n",
        "# Load your real estate data (with latitude and longitude)\n",
        "# Replace 'real_estate_data.csv' with the actual file path or data loading method\n",
        "real_estate_data = pd.read_csv(\"/content/df_lease_deposit_3000.csv\", encoding='euc-kr')\n",
        "\n",
        "# Load your school data (with latitude and longitude)\n",
        "# Replace 'school_data.csv' with the actual file path or data loading method\n",
        "school_data = pd.read_csv(\"/content/초,중,고등학교_전처리.csv\", encoding='euc-kr')\n",
        "\n",
        "# Define a function to calculate distances between each real estate property and nearby schools\n",
        "def calculate_distances(row):\n",
        "    real_estate_coords = (row['위도'], row['경도'])\n",
        "    distances = []\n",
        "    for _, school_row in school_data.iterrows():\n",
        "        school_coords = (school_row['위도'], school_row['경도'])\n",
        "        distance = geodesic(real_estate_coords, school_coords).meters\n",
        "        distances.append(distance)\n",
        "    return distances\n",
        "\n",
        "# Calculate distances from each real estate property to nearby schools\n",
        "real_estate_data['SchoolDistances'] = real_estate_data.apply(calculate_distances, axis=1)\n",
        "\n",
        "# Extract features (distances to schools) and target (평당전세가)\n",
        "X = real_estate_data['SchoolDistances'].apply(lambda x: sum(x))  # Sum of distances to all schools\n",
        "y = real_estate_data['평당전세가']\n",
        "\n",
        "# Calculate the Pearson Correlation Coefficient (PCC) between the distances and 평당전세가\n",
        "correlation = X.corr(y)\n",
        "print(f\"Pearson Correlation Coefficient: {correlation:.2f}\")\n",
        "\n",
        "# Perform linear regression\n",
        "X = sm.add_constant(X)  # Add a constant term for the intercept\n",
        "model = sm.OLS(y, X)\n",
        "results = model.fit()\n",
        "\n",
        "# Print regression results\n",
        "print(results.summary())\n"
      ],
      "metadata": {
        "colab": {
          "base_uri": "https://localhost:8080/"
        },
        "id": "-SYopRmSFpdG",
        "outputId": "c3a15ba2-b862-4e80-e914-9aef342b923e"
      },
      "execution_count": 9,
      "outputs": [
        {
          "output_type": "stream",
          "name": "stdout",
          "text": [
            "Pearson Correlation Coefficient: -0.21\n",
            "                            OLS Regression Results                            \n",
            "==============================================================================\n",
            "Dep. Variable:                  평당전세가   R-squared:                       0.044\n",
            "Model:                            OLS   Adj. R-squared:                  0.043\n",
            "Method:                 Least Squares   F-statistic:                     91.88\n",
            "Date:                Sun, 10 Sep 2023   Prob (F-statistic):           2.62e-21\n",
            "Time:                        23:05:00   Log-Likelihood:                -11693.\n",
            "No. Observations:                2011   AIC:                         2.339e+04\n",
            "Df Residuals:                    2009   BIC:                         2.340e+04\n",
            "Df Model:                           1                                         \n",
            "Covariance Type:            nonrobust                                         \n",
            "===================================================================================\n",
            "                      coef    std err          t      P>|t|      [0.025      0.975]\n",
            "-----------------------------------------------------------------------------------\n",
            "const             263.5441     11.558     22.801      0.000     240.877     286.212\n",
            "SchoolDistances  -6.44e-06   6.72e-07     -9.585      0.000   -7.76e-06   -5.12e-06\n",
            "==============================================================================\n",
            "Omnibus:                      423.626   Durbin-Watson:                   2.065\n",
            "Prob(Omnibus):                  0.000   Jarque-Bera (JB):              867.000\n",
            "Skew:                           1.226   Prob(JB):                    5.41e-189\n",
            "Kurtosis:                       5.083   Cond. No.                     1.10e+08\n",
            "==============================================================================\n",
            "\n",
            "Notes:\n",
            "[1] Standard Errors assume that the covariance matrix of the errors is correctly specified.\n",
            "[2] The condition number is large, 1.1e+08. This might indicate that there are\n",
            "strong multicollinearity or other numerical problems.\n"
          ]
        }
      ]
    }
  ]
}