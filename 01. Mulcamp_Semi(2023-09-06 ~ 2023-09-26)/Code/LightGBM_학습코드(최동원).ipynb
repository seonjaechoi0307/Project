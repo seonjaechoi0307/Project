{
  "nbformat": 4,
  "nbformat_minor": 0,
  "metadata": {
    "colab": {
      "provenance": []
    },
    "kernelspec": {
      "name": "python3",
      "display_name": "Python 3"
    },
    "language_info": {
      "name": "python"
    }
  },
  "cells": [
    {
      "cell_type": "code",
      "execution_count": 1,
      "metadata": {
        "colab": {
          "base_uri": "https://localhost:8080/"
        },
        "id": "xXXS1gJtB0wr",
        "outputId": "50e21222-5806-486d-c041-c47eeb548323"
      },
      "outputs": [
        {
          "output_type": "stream",
          "name": "stdout",
          "text": [
            "Mounted at /content/drive\n"
          ]
        }
      ],
      "source": [
        "from google.colab import drive\n",
        "drive.mount('/content/drive')"
      ]
    },
    {
      "cell_type": "code",
      "source": [
        "def evaluate_model(y_true, y_pred):\n",
        "  \"\"\"\n",
        "  연속 분류 지표로 모델의 성능을 평가하는 함수\n",
        "\n",
        "  Args:\n",
        "    y_true : 실제 값\n",
        "    y_pred : 예측 값\n",
        "\n",
        "  \"\"\"\n",
        "\n",
        "  # 평균 제곱 오차(MSE) 계산\n",
        "  mse = np.mean((y_true - y_pred) ** 2)\n",
        "\n",
        "  # 평균 절대 오차(MAE) 계산\n",
        "  mae = np.mean(np.abs(y_true - y_pred))\n",
        "\n",
        "  # 근사 오차(RMSE) 계산\n",
        "  rmse = np.sqrt(mse)\n",
        "\n",
        "  # 결정계수(R^2) 계산\n",
        "  y_bar = np.mean(y_true)\n",
        "  ss_tot = np.sum((y_true - y_bar) ** 2)\n",
        "  ss_res = np.sum((y_true - y_pred)  ** 2)\n",
        "  r2 = 1 - ss_res / ss_tot\n",
        "\n",
        "  # 평균 절대 백분율 오차(MAPE) 계산\n",
        "  mape = 100 * np.mean(np.abs(y_true - y_pred) / y_true)\n",
        "  print('-------------------------------------')\n",
        "  print(\"평균 제곱 오차(MSE) : {0}\\n평균 절대 오차(MAE) : {1}\\n근사 오차(RMSE) : {2}\\n결정계수(R^2) : {3}\\n평균 절대 오차(MAPE) : {4}\".format(mse, mae, rmse, r2, mape))\n",
        "  print('-------------------------------------')"
      ],
      "metadata": {
        "id": "Vc2EpoanB57u"
      },
      "execution_count": 3,
      "outputs": []
    },
    {
      "cell_type": "markdown",
      "source": [
        "# LightGBM"
      ],
      "metadata": {
        "id": "6lr3NTuJPn6V"
      }
    },
    {
      "cell_type": "code",
      "source": [
        "import pandas as pd\n",
        "import numpy as np\n",
        "from sklearn.model_selection import train_test_split, RandomizedSearchCV\n",
        "from sklearn.metrics import mean_squared_error, mean_absolute_error\n",
        "import lightgbm as lgb\n",
        "\n",
        "# CSV 파일에서 데이터셋 로드\n",
        "data = pd.read_csv('/content/drive/MyDrive/semi_project/data_APT.csv', encoding='utf-8')\n",
        "\n",
        "# Prepare input features (X) and target variable (y)\n",
        "X = data.drop(columns=['JS_Price'])\n",
        "y = data['JS_Price']\n",
        "\n",
        "# Split the dataset into training and test sets\n",
        "X_train, X_test, y_train, y_test = train_test_split(X, y, test_size=0.2, random_state=42)\n",
        "\n",
        "# Define the hyperparameter search space\n",
        "hyperparameter_grid = {\n",
        "    'n_estimators': [0.4],\n",
        "    'learning_rate': [1.8],\n",
        "    'num_leaves': [64],\n",
        "    'max_depth': [1300],\n",
        "    'reg_alpha': [10],\n",
        "    'reg_lambda': [0.05]\n",
        "}\n",
        "\n",
        "# Initialize a RandomizedSearchCV object\n",
        "lgb_model_rscv = RandomizedSearchCV(\n",
        "    lgb.LGBMRegressor(random_state=1000),\n",
        "    hyperparameter_grid,\n",
        "    cv=5,\n",
        "    n_iter=1000,\n",
        "    scoring='neg_mean_squared_error',\n",
        "    n_jobs=-1,\n",
        "    verbose=1\n",
        ")\n",
        "\n",
        "# Fit the model to the training data\n",
        "lgb_model_rscv.fit(X_train.values, y_train)\n",
        "\n",
        "# Make predictions on the test data\n",
        "y_pred_lgb_model_rscv = lgb_model_rscv.best_estimator_.predict(X_test.values)\n",
        "\n",
        "\n",
        "evaluate_model(y_test, y_pred_lgb_model_rscv)"
      ],
      "metadata": {
        "id": "AHuI7qIMM36z"
      },
      "execution_count": null,
      "outputs": []
    }
  ]
}