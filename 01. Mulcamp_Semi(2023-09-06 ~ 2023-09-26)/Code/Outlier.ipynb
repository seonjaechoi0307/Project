{
  "nbformat": 4,
  "nbformat_minor": 0,
  "metadata": {
    "colab": {
      "provenance": []
    },
    "kernelspec": {
      "name": "python3",
      "display_name": "Python 3"
    },
    "language_info": {
      "name": "python"
    }
  },
  "cells": [
    {
      "cell_type": "code",
      "source": [
        "from google.colab import drive\n",
        "drive.mount('/content/drive')"
      ],
      "metadata": {
        "colab": {
          "base_uri": "https://localhost:8080/"
        },
        "id": "9OBUk6p9jh4d",
        "outputId": "183b1387-3d33-458f-ca75-6876cf344da5"
      },
      "execution_count": 46,
      "outputs": [
        {
          "output_type": "stream",
          "name": "stdout",
          "text": [
            "Drive already mounted at /content/drive; to attempt to forcibly remount, call drive.mount(\"/content/drive\", force_remount=True).\n"
          ]
        }
      ]
    },
    {
      "cell_type": "code",
      "execution_count": 55,
      "metadata": {
        "colab": {
          "base_uri": "https://localhost:8080/"
        },
        "id": "gStB2xo5ihdP",
        "outputId": "4c1e899e-742c-45cf-d9fa-329ef6c5d61d"
      },
      "outputs": [
        {
          "output_type": "stream",
          "name": "stdout",
          "text": [
            "   Year  Month Region_Name  Building_Age Building_Use  JS_Price  JS_BA  \\\n",
            "0  2011      1         관악구             6         오피스텔     12000  25.05   \n",
            "1  2011      2         관악구             6         오피스텔     10000  25.05   \n",
            "2  2011      2         관악구             6         오피스텔     10500  26.18   \n",
            "\n",
            "   Population    IR   UR  LC_index  CA_index  TC_index  SDT_index  HSP_index  \\\n",
            "0      521193  2.75  3.8      72.0      78.2      74.2        NaN       81.2   \n",
            "1      521193  2.75  4.5      72.3      78.2      74.5        NaN       82.0   \n",
            "2      521193  2.75  4.5      72.3      78.2      74.5        NaN       82.0   \n",
            "\n",
            "   Sell_Price  Crime_Rates       위도         경도  \n",
            "0     15800.0          NaN  37.4745  126.98139  \n",
            "1     16875.0          NaN  37.4745  126.98139  \n",
            "2     16875.0          NaN  37.4745  126.98139  \n",
            "        Year  Month Region_Name  Building_Age Building_Use  JS_Price  JS_BA  \\\n",
            "836080  2019     11         송파구            12          아파트     76000  59.88   \n",
            "836081  2019     11         송파구            12          아파트     72500  59.88   \n",
            "836082  2019     11         송파구            12          아파트     78000  59.88   \n",
            "\n",
            "        Population    IR   UR  LC_index  CA_index  TC_index   SDT_index  \\\n",
            "836080      662019  1.25  3.1      97.5     100.5      98.8  102.176471   \n",
            "836081      662019  1.25  3.1      97.5     100.5      98.8  102.176471   \n",
            "836082      662019  1.25  3.1      97.5     100.5      98.8   10.000000   \n",
            "\n",
            "        HSP_index  Sell_Price  Crime_Rates         위도         경도  \n",
            "836080      129.5   184145.83     0.834577  37.509887  127.08957  \n",
            "836081      129.5   184145.83     0.834577  37.509887  127.08957  \n",
            "836082        NaN         NaN          NaN        NaN        NaN  \n"
          ]
        }
      ],
      "source": [
        "import numpy as np\n",
        "import pandas as pd\n",
        "\n",
        "# 데이터 준비\n",
        "data = pd.read_csv(\"/content/drive/MyDrive/semi_project/전처리된_전체_데이터.csv\")\n",
        "\n",
        "print(data.head(3))\n",
        "print(data.tail(3))"
      ]
    },
    {
      "cell_type": "markdown",
      "source": [
        "## 시각화(QQ 플롯)"
      ],
      "metadata": {
        "id": "etvJthTiHunP"
      }
    },
    {
      "cell_type": "code",
      "source": [
        "import numpy as np\n",
        "import pandas as pd\n",
        "import matplotlib.pyplot as plt\n",
        "import scipy.stats as stats"
      ],
      "metadata": {
        "id": "T6GuCf13Htn5"
      },
      "execution_count": null,
      "outputs": []
    },
    {
      "cell_type": "code",
      "source": [
        "# 표준 정규 분포로부터 랜덤 샘플 생성\n",
        "data = pd.read_csv(\"/content/drive/MyDrive/semi_project/전처리된_전체_데이터.csv\")\n",
        "\n",
        "# 열의 데이터를 가져옵니다.\n",
        "sample_data = data['JS_Price']\n",
        "\n",
        "# QQ 플롯 그리기\n",
        "stats.probplot(sample_data, dist='norm', plot=plt)\n",
        "plt.title('QQ Plot')\n",
        "plt.xlabel(\"Theoretical Quantiles\")\n",
        "plt.ylabel(\"Sample Quantiles\")\n",
        "plt.show()"
      ],
      "metadata": {
        "colab": {
          "base_uri": "https://localhost:8080/",
          "height": 472
        },
        "id": "3jELFY8DlX5d",
        "outputId": "fd5892b5-9366-407c-f6b9-0728e492787d"
      },
      "execution_count": null,
      "outputs": [
        {
          "output_type": "display_data",
          "data": {
            "text/plain": [
              "<Figure size 640x480 with 1 Axes>"
            ],
            "image/png": "[encoded data removed]"
          },
          "metadata": {}
        }
      ]
    },
    {
      "cell_type": "code",
      "source": [
        "import numpy as np\n",
        "import matplotlib.pyplot as plt\n",
        "import scipy.stats as stats\n",
        "\n",
        "# 평균이 0이고 표준 편차가 1인 표준 정규 분포로부터 샘플 데이터 생성\n",
        "data = np.random.normal(0, 1, 100)\n",
        "\n",
        "# QQ 플롯 그리기\n",
        "stats.probplot(data, dist=\"norm\", plot=plt)\n",
        "plt.title(\"QQ Plot for Standard Normal Distribution\")\n",
        "plt.xlabel(\"Theoretical Quantiles\")\n",
        "plt.ylabel(\"Sample Quantiles\")\n",
        "plt.show()\n"
      ],
      "metadata": {
        "colab": {
          "base_uri": "https://localhost:8080/",
          "height": 472
        },
        "id": "K7qKS-1c-27m",
        "outputId": "71a58bd1-9cb0-44f4-b0f5-92f6a0edd346"
      },
      "execution_count": null,
      "outputs": [
        {
          "output_type": "display_data",
          "data": {
            "text/plain": [
              "<Figure size 640x480 with 1 Axes>"
            ],
            "image/png": "[encoded data removed]"
          },
          "metadata": {}
        }
      ]
    },
    {
      "cell_type": "markdown",
      "source": [
        "# 로버스트 통계 방법 코드"
      ],
      "metadata": {
        "id": "Hmi_vtpfObWP"
      }
    },
    {
      "cell_type": "code",
      "source": [
        "import pandas as pd\n",
        "from scipy import stats"
      ],
      "metadata": {
        "id": "voedBlKZI5nT"
      },
      "execution_count": null,
      "outputs": []
    },
    {
      "cell_type": "markdown",
      "source": [
        "## IQR을 사용\n",
        "- 데이터의 분포가 정규분포에 가까울 때\n",
        "- 대부분의 이상치가 상위 이상치인 경우 또는 하위 이상치인 경우\n",
        "- 일반적인 통계적 분석에서 표준적인 방법으로 사용할 때"
      ],
      "metadata": {
        "id": "bydIMwoNWv_L"
      }
    },
    {
      "cell_type": "code",
      "source": [
        "import numpy as np\n",
        "import pandas as pd\n",
        "\n",
        "data = pd.read_csv('/content/drive/MyDrive/semi_project/전처리된_전체_데이터.csv')\n",
        "\n",
        "# 선택한 열의 데이터를 가져옵니다.\n",
        "sample_data = data['JS_Price']\n",
        "\n",
        "# 중앙값과 IQR 계산\n",
        "median = sample_data.median()\n",
        "iqr = stats.iqr(sample_data)\n",
        "\n",
        "# 이상치 경계값 설정 (예: 1.5배 IQR)\n",
        "outlier_upper_bound = median + 1.5 * iqr\n",
        "outlier_lower_bound = median - 1.5 * iqr\n",
        "\n",
        "# 이상치 식별\n",
        "outliers = sample_data[(sample_data > outlier_upper_bound) | (sample_data < outlier_lower_bound)]\n",
        "\n",
        "# 이상치 출력\n",
        "print(\"이상치:\")\n",
        "print(outliers)\n",
        "\n",
        "# 이상치 개수 확인\n",
        "outlier_count = len(outliers)\n",
        "\n",
        "# 이상치 개수 출력\n",
        "print(\"이상치 개수:\", outlier_count)"
      ],
      "metadata": {
        "colab": {
          "base_uri": "https://localhost:8080/"
        },
        "id": "ok2foQ1UNfce",
        "outputId": "d2d8d5a2-0cd9-4792-8bcf-592eadb426b8"
      },
      "execution_count": null,
      "outputs": [
        {
          "output_type": "stream",
          "name": "stdout",
          "text": [
            "이상치:\n",
            "791       65000\n",
            "792       73000\n",
            "793       80000\n",
            "794       90000\n",
            "795       88000\n",
            "          ...  \n",
            "836078    73000\n",
            "836079    74000\n",
            "836080    76000\n",
            "836081    72500\n",
            "836082    78000\n",
            "Name: JS_Price, Length: 66611, dtype: int64\n",
            "이상치 개수: 66611\n"
          ]
        }
      ]
    },
    {
      "cell_type": "markdown",
      "source": [
        "## MAD\n",
        "- 데이터의 분포가 정규분포를 따르지 않을 때\n",
        "- 이상치가 극단적으로 크거나 데이터셋이 작을 때"
      ],
      "metadata": {
        "id": "ybV7Xl1CYLbD"
      }
    },
    {
      "cell_type": "code",
      "source": [
        "import numpy as np\n",
        "import pandas as pd\n",
        "\n",
        "def detect_outliers(df, column, threshold=3.5):\n",
        "    # 중앙값, 중앙값 절대 편차 계산\n",
        "    median = np.median(df[column])\n",
        "    mad = np.median(np.abs(df[column] - median))\n",
        "\n",
        "    # 아웃라이어 탐지\n",
        "    outlier_threshold = threshold * mad\n",
        "    outliers = df[column][(df[column] < median - outlier_threshold) | (df[column] > median + outlier_threshold)]\n",
        "\n",
        "    return outliers\n",
        "\n",
        "def count_outliers_robust(df, column, threshold=1.5):\n",
        "\n",
        "    \"\"\"\n",
        "    로버스트 통계를 사용하여 아웃라이어의 수를 계산합니다.\n",
        "\n",
        "    Args:\n",
        "        df: 데이터프레임\n",
        "        column: 아웃라이어를 탐지할 열의 이름\n",
        "        threshold: 아웃라이어의 기준값 (기본값: 1.5)\n",
        "\n",
        "    Returns:\n",
        "        아웃라이어의 수\n",
        "    \"\"\"\n",
        "\n",
        "    # 아웃라이어 탐지\n",
        "    outliers = detect_outliers(df, column, threshold)\n",
        "\n",
        "    # 아웃라이어의 수 계산\n",
        "    outlier_count = len(outliers)\n",
        "\n",
        "    return outlier_count\n",
        "\n",
        "data = pd.read_csv('/content/drive/MyDrive/semi_project/전처리된_전체_데이터.csv')\n",
        "\n",
        "# 아웃라이어 탐지\n",
        "outliers = detect_outliers(data, 'JS_Price')\n",
        "\n",
        "# 아웃라이어의 수 계산\n",
        "outlier_count = count_outliers_robust(data, 'JS_Price')\n",
        "\n",
        "print(outlier_count)"
      ],
      "metadata": {
        "colab": {
          "base_uri": "https://localhost:8080/"
        },
        "id": "xXp85pltSsHT",
        "outputId": "064f4c0b-57a7-4a1c-b102-bcc85ce1ff79"
      },
      "execution_count": null,
      "outputs": [
        {
          "output_type": "stream",
          "name": "stdout",
          "text": [
            "233891\n"
          ]
        }
      ]
    },
    {
      "cell_type": "markdown",
      "source": [
        "## IQR\n",
        "- 4.3% 제거"
      ],
      "metadata": {
        "id": "TBfbv-rYOYuG"
      }
    },
    {
      "cell_type": "code",
      "source": [
        "import numpy as np\n",
        "import pandas as pd\n",
        "\n",
        "def detect_outliers_iqr(df,column, threshold=1.5):\n",
        "  '''\n",
        "  IQR을 사용하여 아웃라이어를 탐지\n",
        "\n",
        "  Args:\n",
        "      df : 데이터프레임\n",
        "      column : 아웃라이어의 탐지할 열의 이름\n",
        "      threshold : 아웃라이어의 기준값 (기본값 : 1.5)\n",
        "\n",
        "  Returns:\n",
        "      아웃라이어를 포함하는 Series 객체\n",
        "  '''\n",
        "\n",
        "  # 1사분위수, 3사분위수, IQR 계산\n",
        "  Q1 = np.percentile(df[column], 25)\n",
        "  Q3 = np.percentile(df[column], 75)\n",
        "  IQR = Q3 - Q1\n",
        "\n",
        "  # 아웃라이어 탐지\n",
        "  outlier_threshold = threshold * IQR\n",
        "  outliers = df[column][(df[column] < Q1 - outlier_threshold) | (df[column] > Q3 + outlier_threshold)]\n",
        "\n",
        "  return outliers\n",
        "\n",
        "def count_outliers_iqr(df, column, threshold=1.5):\n",
        "\n",
        "    \"\"\"\n",
        "    IQR을 사용하여 아웃라이어의 수를 계산합니다.\n",
        "\n",
        "    Args:\n",
        "        df: 데이터프레임\n",
        "        column: 아웃라이어를 탐지할 열의 이름\n",
        "        threshold: 아웃라이어의 기준값 (기본값: 1.5)\n",
        "\n",
        "    Returns:\n",
        "        아웃라이어의 수\n",
        "    \"\"\"\n",
        "\n",
        "    # 아웃라이어 탐지\n",
        "    outliers = detect_outliers_iqr(df, column, threshold)\n",
        "\n",
        "    # 아웃라이어의 수 계산\n",
        "    outlier_count = len(outliers)\n",
        "\n",
        "    return outlier_count\n",
        "\n",
        "# 예제\n",
        "data = pd.read_csv('/content/drive/MyDrive/semi_project/전처리된_전체_데이터.csv')\n",
        "\n",
        "outlier_count = count_outliers_iqr(data, \"JS_Price\")\n",
        "\n",
        "print(outlier_count)"
      ],
      "metadata": {
        "colab": {
          "base_uri": "https://localhost:8080/"
        },
        "id": "VRLlfezBODUQ",
        "outputId": "412270bd-f75c-4c30-f0b7-35a6abebdab3"
      },
      "execution_count": 54,
      "outputs": [
        {
          "output_type": "stream",
          "name": "stdout",
          "text": [
            "36062\n"
          ]
        }
      ]
    },
    {
      "cell_type": "markdown",
      "source": [
        "### 다른 이름으로 CSV파일 저장"
      ],
      "metadata": {
        "id": "5zHRDOyVSaQv"
      }
    },
    {
      "cell_type": "code",
      "source": [
        "# 아웃라이어를 제거한 데이터프레임 생성\n",
        "df_without_outliers = data.copy()\n",
        "df_without_outliers.drop(outliers.index, inplace=True)\n",
        "\n",
        "# 아웃라이어를 제거한 데이터프레임을 다른 이름으로 저장\n",
        "data = pd.read_csv('/content/drive/MyDrive/semi_project/전처리된_전체_데이터.csv')"
      ],
      "metadata": {
        "colab": {
          "base_uri": "https://localhost:8080/",
          "height": 733
        },
        "id": "SPDpJcUYQs9q",
        "outputId": "ce871207-3b12-4294-e677-1d1fbacfe618"
      },
      "execution_count": 51,
      "outputs": [
        {
          "output_type": "error",
          "ename": "KeyError",
          "evalue": "ignored",
          "traceback": [
            "\u001b[0;31m---------------------------------------------------------------------------\u001b[0m",
            "\u001b[0;31mKeyError\u001b[0m                                  Traceback (most recent call last)",
            "\u001b[0;32m<ipython-input-51-dc911fe4f608>\u001b[0m in \u001b[0;36m<cell line: 3>\u001b[0;34m()\u001b[0m\n\u001b[1;32m      1\u001b[0m \u001b[0;31m# 아웃라이어를 제거한 데이터프레임 생성\u001b[0m\u001b[0;34m\u001b[0m\u001b[0;34m\u001b[0m\u001b[0m\n\u001b[1;32m      2\u001b[0m \u001b[0mdf_without_outliers\u001b[0m \u001b[0;34m=\u001b[0m \u001b[0mdata\u001b[0m\u001b[0;34m.\u001b[0m\u001b[0mcopy\u001b[0m\u001b[0;34m(\u001b[0m\u001b[0;34m)\u001b[0m\u001b[0;34m\u001b[0m\u001b[0;34m\u001b[0m\u001b[0m\n\u001b[0;32m----> 3\u001b[0;31m \u001b[0mdf_without_outliers\u001b[0m\u001b[0;34m.\u001b[0m\u001b[0mdrop\u001b[0m\u001b[0;34m(\u001b[0m\u001b[0moutliers\u001b[0m\u001b[0;34m.\u001b[0m\u001b[0mindex\u001b[0m\u001b[0;34m,\u001b[0m \u001b[0minplace\u001b[0m\u001b[0;34m=\u001b[0m\u001b[0;32mTrue\u001b[0m\u001b[0;34m)\u001b[0m\u001b[0;34m\u001b[0m\u001b[0;34m\u001b[0m\u001b[0m\n\u001b[0m\u001b[1;32m      4\u001b[0m \u001b[0;34m\u001b[0m\u001b[0m\n\u001b[1;32m      5\u001b[0m \u001b[0;31m# 아웃라이어를 제거한 데이터프레임을 다른 이름으로 저장\u001b[0m\u001b[0;34m\u001b[0m\u001b[0;34m\u001b[0m\u001b[0m\n",
            "\u001b[0;32m/usr/local/lib/python3.10/dist-packages/pandas/util/_decorators.py\u001b[0m in \u001b[0;36mwrapper\u001b[0;34m(*args, **kwargs)\u001b[0m\n\u001b[1;32m    329\u001b[0m                     \u001b[0mstacklevel\u001b[0m\u001b[0;34m=\u001b[0m\u001b[0mfind_stack_level\u001b[0m\u001b[0;34m(\u001b[0m\u001b[0;34m)\u001b[0m\u001b[0;34m,\u001b[0m\u001b[0;34m\u001b[0m\u001b[0;34m\u001b[0m\u001b[0m\n\u001b[1;32m    330\u001b[0m                 )\n\u001b[0;32m--> 331\u001b[0;31m             \u001b[0;32mreturn\u001b[0m \u001b[0mfunc\u001b[0m\u001b[0;34m(\u001b[0m\u001b[0;34m*\u001b[0m\u001b[0margs\u001b[0m\u001b[0;34m,\u001b[0m \u001b[0;34m**\u001b[0m\u001b[0mkwargs\u001b[0m\u001b[0;34m)\u001b[0m\u001b[0;34m\u001b[0m\u001b[0;34m\u001b[0m\u001b[0m\n\u001b[0m\u001b[1;32m    332\u001b[0m \u001b[0;34m\u001b[0m\u001b[0m\n\u001b[1;32m    333\u001b[0m         \u001b[0;31m# error: \"Callable[[VarArg(Any), KwArg(Any)], Any]\" has no\u001b[0m\u001b[0;34m\u001b[0m\u001b[0;34m\u001b[0m\u001b[0m\n",
            "\u001b[0;32m/usr/local/lib/python3.10/dist-packages/pandas/core/frame.py\u001b[0m in \u001b[0;36mdrop\u001b[0;34m(self, labels, axis, index, columns, level, inplace, errors)\u001b[0m\n\u001b[1;32m   5397\u001b[0m                 \u001b[0mweight\u001b[0m  \u001b[0;36m1.0\u001b[0m     \u001b[0;36m0.8\u001b[0m\u001b[0;34m\u001b[0m\u001b[0;34m\u001b[0m\u001b[0m\n\u001b[1;32m   5398\u001b[0m         \"\"\"\n\u001b[0;32m-> 5399\u001b[0;31m         return super().drop(\n\u001b[0m\u001b[1;32m   5400\u001b[0m             \u001b[0mlabels\u001b[0m\u001b[0;34m=\u001b[0m\u001b[0mlabels\u001b[0m\u001b[0;34m,\u001b[0m\u001b[0;34m\u001b[0m\u001b[0;34m\u001b[0m\u001b[0m\n\u001b[1;32m   5401\u001b[0m             \u001b[0maxis\u001b[0m\u001b[0;34m=\u001b[0m\u001b[0maxis\u001b[0m\u001b[0;34m,\u001b[0m\u001b[0;34m\u001b[0m\u001b[0;34m\u001b[0m\u001b[0m\n",
            "\u001b[0;32m/usr/local/lib/python3.10/dist-packages/pandas/util/_decorators.py\u001b[0m in \u001b[0;36mwrapper\u001b[0;34m(*args, **kwargs)\u001b[0m\n\u001b[1;32m    329\u001b[0m                     \u001b[0mstacklevel\u001b[0m\u001b[0;34m=\u001b[0m\u001b[0mfind_stack_level\u001b[0m\u001b[0;34m(\u001b[0m\u001b[0;34m)\u001b[0m\u001b[0;34m,\u001b[0m\u001b[0;34m\u001b[0m\u001b[0;34m\u001b[0m\u001b[0m\n\u001b[1;32m    330\u001b[0m                 )\n\u001b[0;32m--> 331\u001b[0;31m             \u001b[0;32mreturn\u001b[0m \u001b[0mfunc\u001b[0m\u001b[0;34m(\u001b[0m\u001b[0;34m*\u001b[0m\u001b[0margs\u001b[0m\u001b[0;34m,\u001b[0m \u001b[0;34m**\u001b[0m\u001b[0mkwargs\u001b[0m\u001b[0;34m)\u001b[0m\u001b[0;34m\u001b[0m\u001b[0;34m\u001b[0m\u001b[0m\n\u001b[0m\u001b[1;32m    332\u001b[0m \u001b[0;34m\u001b[0m\u001b[0m\n\u001b[1;32m    333\u001b[0m         \u001b[0;31m# error: \"Callable[[VarArg(Any), KwArg(Any)], Any]\" has no\u001b[0m\u001b[0;34m\u001b[0m\u001b[0;34m\u001b[0m\u001b[0m\n",
            "\u001b[0;32m/usr/local/lib/python3.10/dist-packages/pandas/core/generic.py\u001b[0m in \u001b[0;36mdrop\u001b[0;34m(self, labels, axis, index, columns, level, inplace, errors)\u001b[0m\n\u001b[1;32m   4503\u001b[0m         \u001b[0;32mfor\u001b[0m \u001b[0maxis\u001b[0m\u001b[0;34m,\u001b[0m \u001b[0mlabels\u001b[0m \u001b[0;32min\u001b[0m \u001b[0maxes\u001b[0m\u001b[0;34m.\u001b[0m\u001b[0mitems\u001b[0m\u001b[0;34m(\u001b[0m\u001b[0;34m)\u001b[0m\u001b[0;34m:\u001b[0m\u001b[0;34m\u001b[0m\u001b[0;34m\u001b[0m\u001b[0m\n\u001b[1;32m   4504\u001b[0m             \u001b[0;32mif\u001b[0m \u001b[0mlabels\u001b[0m \u001b[0;32mis\u001b[0m \u001b[0;32mnot\u001b[0m \u001b[0;32mNone\u001b[0m\u001b[0;34m:\u001b[0m\u001b[0;34m\u001b[0m\u001b[0;34m\u001b[0m\u001b[0m\n\u001b[0;32m-> 4505\u001b[0;31m                 \u001b[0mobj\u001b[0m \u001b[0;34m=\u001b[0m \u001b[0mobj\u001b[0m\u001b[0;34m.\u001b[0m\u001b[0m_drop_axis\u001b[0m\u001b[0;34m(\u001b[0m\u001b[0mlabels\u001b[0m\u001b[0;34m,\u001b[0m \u001b[0maxis\u001b[0m\u001b[0;34m,\u001b[0m \u001b[0mlevel\u001b[0m\u001b[0;34m=\u001b[0m\u001b[0mlevel\u001b[0m\u001b[0;34m,\u001b[0m \u001b[0merrors\u001b[0m\u001b[0;34m=\u001b[0m\u001b[0merrors\u001b[0m\u001b[0;34m)\u001b[0m\u001b[0;34m\u001b[0m\u001b[0;34m\u001b[0m\u001b[0m\n\u001b[0m\u001b[1;32m   4506\u001b[0m \u001b[0;34m\u001b[0m\u001b[0m\n\u001b[1;32m   4507\u001b[0m         \u001b[0;32mif\u001b[0m \u001b[0minplace\u001b[0m\u001b[0;34m:\u001b[0m\u001b[0;34m\u001b[0m\u001b[0;34m\u001b[0m\u001b[0m\n",
            "\u001b[0;32m/usr/local/lib/python3.10/dist-packages/pandas/core/generic.py\u001b[0m in \u001b[0;36m_drop_axis\u001b[0;34m(self, labels, axis, level, errors, only_slice)\u001b[0m\n\u001b[1;32m   4544\u001b[0m                 \u001b[0mnew_axis\u001b[0m \u001b[0;34m=\u001b[0m \u001b[0maxis\u001b[0m\u001b[0;34m.\u001b[0m\u001b[0mdrop\u001b[0m\u001b[0;34m(\u001b[0m\u001b[0mlabels\u001b[0m\u001b[0;34m,\u001b[0m \u001b[0mlevel\u001b[0m\u001b[0;34m=\u001b[0m\u001b[0mlevel\u001b[0m\u001b[0;34m,\u001b[0m \u001b[0merrors\u001b[0m\u001b[0;34m=\u001b[0m\u001b[0merrors\u001b[0m\u001b[0;34m)\u001b[0m\u001b[0;34m\u001b[0m\u001b[0;34m\u001b[0m\u001b[0m\n\u001b[1;32m   4545\u001b[0m             \u001b[0;32melse\u001b[0m\u001b[0;34m:\u001b[0m\u001b[0;34m\u001b[0m\u001b[0;34m\u001b[0m\u001b[0m\n\u001b[0;32m-> 4546\u001b[0;31m                 \u001b[0mnew_axis\u001b[0m \u001b[0;34m=\u001b[0m \u001b[0maxis\u001b[0m\u001b[0;34m.\u001b[0m\u001b[0mdrop\u001b[0m\u001b[0;34m(\u001b[0m\u001b[0mlabels\u001b[0m\u001b[0;34m,\u001b[0m \u001b[0merrors\u001b[0m\u001b[0;34m=\u001b[0m\u001b[0merrors\u001b[0m\u001b[0;34m)\u001b[0m\u001b[0;34m\u001b[0m\u001b[0;34m\u001b[0m\u001b[0m\n\u001b[0m\u001b[1;32m   4547\u001b[0m             \u001b[0mindexer\u001b[0m \u001b[0;34m=\u001b[0m \u001b[0maxis\u001b[0m\u001b[0;34m.\u001b[0m\u001b[0mget_indexer\u001b[0m\u001b[0;34m(\u001b[0m\u001b[0mnew_axis\u001b[0m\u001b[0;34m)\u001b[0m\u001b[0;34m\u001b[0m\u001b[0;34m\u001b[0m\u001b[0m\n\u001b[1;32m   4548\u001b[0m \u001b[0;34m\u001b[0m\u001b[0m\n",
            "\u001b[0;32m/usr/local/lib/python3.10/dist-packages/pandas/core/indexes/base.py\u001b[0m in \u001b[0;36mdrop\u001b[0;34m(self, labels, errors)\u001b[0m\n\u001b[1;32m   6932\u001b[0m         \u001b[0;32mif\u001b[0m \u001b[0mmask\u001b[0m\u001b[0;34m.\u001b[0m\u001b[0many\u001b[0m\u001b[0;34m(\u001b[0m\u001b[0;34m)\u001b[0m\u001b[0;34m:\u001b[0m\u001b[0;34m\u001b[0m\u001b[0;34m\u001b[0m\u001b[0m\n\u001b[1;32m   6933\u001b[0m             \u001b[0;32mif\u001b[0m \u001b[0merrors\u001b[0m \u001b[0;34m!=\u001b[0m \u001b[0;34m\"ignore\"\u001b[0m\u001b[0;34m:\u001b[0m\u001b[0;34m\u001b[0m\u001b[0;34m\u001b[0m\u001b[0m\n\u001b[0;32m-> 6934\u001b[0;31m                 \u001b[0;32mraise\u001b[0m \u001b[0mKeyError\u001b[0m\u001b[0;34m(\u001b[0m\u001b[0;34mf\"{list(labels[mask])} not found in axis\"\u001b[0m\u001b[0;34m)\u001b[0m\u001b[0;34m\u001b[0m\u001b[0;34m\u001b[0m\u001b[0m\n\u001b[0m\u001b[1;32m   6935\u001b[0m             \u001b[0mindexer\u001b[0m \u001b[0;34m=\u001b[0m \u001b[0mindexer\u001b[0m\u001b[0;34m[\u001b[0m\u001b[0;34m~\u001b[0m\u001b[0mmask\u001b[0m\u001b[0;34m]\u001b[0m\u001b[0;34m\u001b[0m\u001b[0;34m\u001b[0m\u001b[0m\n\u001b[1;32m   6936\u001b[0m         \u001b[0;32mreturn\u001b[0m \u001b[0mself\u001b[0m\u001b[0;34m.\u001b[0m\u001b[0mdelete\u001b[0m\u001b[0;34m(\u001b[0m\u001b[0mindexer\u001b[0m\u001b[0;34m)\u001b[0m\u001b[0;34m\u001b[0m\u001b[0;34m\u001b[0m\u001b[0m\n",
            "\u001b[0;31mKeyError\u001b[0m: '[5102, 5105, 5106, 5108, 5109, 5111, 5112, 5114, 5115, 5116, 5117, 5118, 5119, 5120, 5121, 5122, 5123, 6088, 6487, 8587, 8603, 8710, 8714, 8715, 8716, 8717, 8718, 8722, 9264, 10305, 11072, 12471, 14712, 14713, 14714, 14715, 14716, 14717, 14719, 14720, 14721, 14722, 15815, 15818, 16053, 16054, 16055, 16056, 16057, 16058, 16059, 16060, 16061, 16062, 16064, 16065, 16069, 16071, 16072, 16075, 16076, 16077, 16078, 16079, 16080, 16082, 16083, 16084, 16085, 16086, 16087, 16088, 16089, 16090, 16091, 16092, 16093, 16094, 16095, 16096, 16097, 16098, 16099, 16100, 16101, 16102, 16103, 16104, 16105, 16106, 16107, 16108, 16109, 16110, 16111, 16112, 16113, 16117, 16144, 16145, 16146, 16147, 16148, 16149, 16150, 16151, 16152, 16153, 16154, 16155, 16156, 16157, 16158, 16159, 16160, 16162, 16163, 16164, 16165, 16166, 16167, 16168, 16170, 16171, 16173, 16174, 16175, 16176, 16177, 16178, 16179, 16180, 16181, 16182, 16183, 16184, 16185, 16187, 16188, 16189, 16190, 16191, 16192, 16193, 16194, 16195, 16196, 16197, 16198, 16199, 16200, 16201, 16202, 16203, 16204, 16205, 16206, 16207, 16208, 16209, 16210, 16211, 16212, 16213, 16214, 16215, 16216, 16217, 16218, 16219, 16220, 16221, 16222, 16223, 16224, 16225, 16226, 16227, 16228, 16229, 16230, 16231, 16232, 16233, 16234, 16235, 16236, 16237, 16327, 16329, 16334, 16335, 16336, 16337, 16338, 16339, 16341, 16342, 16343, 16344, 16345, 16347, 16348, 16414, 16417, 16420, 16422, 16423, 16459, 16483, 16497, 16498, 16499, 16500, 16501..."
          ]
        }
      ]
    },
    {
      "cell_type": "code",
      "source": [],
      "metadata": {
        "id": "_qa9OVmCZGqG"
      },
      "execution_count": null,
      "outputs": []
    }
  ]
}