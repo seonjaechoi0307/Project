{
  "nbformat": 4,
  "nbformat_minor": 0,
  "metadata": {
    "colab": {
      "provenance": []
    },
    "kernelspec": {
      "name": "python3",
      "display_name": "Python 3"
    },
    "language_info": {
      "name": "python"
    }
  },
  "cells": [
    {
      "cell_type": "code",
      "execution_count": 1,
      "metadata": {
        "colab": {
          "base_uri": "https://localhost:8080/"
        },
        "id": "ilfKQxzudPxa",
        "outputId": "b4d504f4-ec1b-4d04-aae4-ab6e3c23476c"
      },
      "outputs": [
        {
          "output_type": "stream",
          "name": "stdout",
          "text": [
            "Reading package lists... Done\n",
            "Building dependency tree... Done\n",
            "Reading state information... Done\n",
            "The following NEW packages will be installed:\n",
            "  fonts-nanum\n",
            "0 upgraded, 1 newly installed, 0 to remove and 16 not upgraded.\n",
            "Need to get 10.3 MB of archives.\n",
            "After this operation, 34.1 MB of additional disk space will be used.\n",
            "Get:1 http://archive.ubuntu.com/ubuntu jammy/universe amd64 fonts-nanum all 20200506-1 [10.3 MB]\n",
            "Fetched 10.3 MB in 1s (9,713 kB/s)\n",
            "debconf: unable to initialize frontend: Dialog\n",
            "debconf: (No usable dialog-like program is installed, so the dialog based frontend cannot be used. at /usr/share/perl5/Debconf/FrontEnd/Dialog.pm line 78, <> line 1.)\n",
            "debconf: falling back to frontend: Readline\n",
            "debconf: unable to initialize frontend: Readline\n",
            "debconf: (This frontend requires a controlling tty.)\n",
            "debconf: falling back to frontend: Teletype\n",
            "dpkg-preconfigure: unable to re-open stdin: \n",
            "Selecting previously unselected package fonts-nanum.\n",
            "(Reading database ... 120901 files and directories currently installed.)\n",
            "Preparing to unpack .../fonts-nanum_20200506-1_all.deb ...\n",
            "Unpacking fonts-nanum (20200506-1) ...\n",
            "Setting up fonts-nanum (20200506-1) ...\n",
            "Processing triggers for fontconfig (2.13.1-4.2ubuntu5) ...\n",
            "/usr/share/fonts: caching, new cache contents: 0 fonts, 1 dirs\n",
            "/usr/share/fonts/truetype: caching, new cache contents: 0 fonts, 3 dirs\n",
            "/usr/share/fonts/truetype/humor-sans: caching, new cache contents: 1 fonts, 0 dirs\n",
            "/usr/share/fonts/truetype/liberation: caching, new cache contents: 16 fonts, 0 dirs\n",
            "/usr/share/fonts/truetype/nanum: caching, new cache contents: 12 fonts, 0 dirs\n",
            "/usr/local/share/fonts: caching, new cache contents: 0 fonts, 0 dirs\n",
            "/root/.local/share/fonts: skipping, no such directory\n",
            "/root/.fonts: skipping, no such directory\n",
            "/usr/share/fonts/truetype: skipping, looped directory detected\n",
            "/usr/share/fonts/truetype/humor-sans: skipping, looped directory detected\n",
            "/usr/share/fonts/truetype/liberation: skipping, looped directory detected\n",
            "/usr/share/fonts/truetype/nanum: skipping, looped directory detected\n",
            "/var/cache/fontconfig: cleaning cache directory\n",
            "/root/.cache/fontconfig: not cleaning non-existent cache directory\n",
            "/root/.fontconfig: not cleaning non-existent cache directory\n",
            "fc-cache: succeeded\n"
          ]
        }
      ],
      "source": [
        "!sudo apt-get install -y fonts-nanum\n",
        "!sudo fc-cache -fv\n",
        "!rm ~/.cache/matplotlib -rf\n"
      ]
    },
    {
      "cell_type": "code",
      "source": [
        "import pandas as pd\n",
        "import numpy as np\n",
        "import matplotlib.pyplot as plt\n",
        "import seaborn as sns\n"
      ],
      "metadata": {
        "id": "9lwfH_5UdlJQ"
      },
      "execution_count": 2,
      "outputs": []
    },
    {
      "cell_type": "code",
      "source": [
        "import pandas as pd\n",
        "import statsmodels.api as sm\n",
        "\n",
        "# Load your real estate dataset (replace 'your_real_estate_dataset.csv' with your actual file path)\n",
        "real_estate_data = pd.read_csv(\"/content/df_lease_deposit_3000.csv\", encoding='euc-kr')\n",
        "\n",
        "# Load your crime rate dataset (replace 'your_crime_rate_dataset.csv' with your actual file path)\n",
        "crime_rate_data = pd.read_csv(\"/content/서울시5대범죄전처리완료.csv\", encoding='euc-kr')\n",
        "\n",
        "# Merge the datasets on the common column '접수년도'\n",
        "merged_data = pd.merge(real_estate_data, crime_rate_data, on='접수년도', how='inner')\n",
        "\n",
        "# Calculate the Pearson Correlation Coefficient (PCC)\n",
        "pcc = merged_data['평당전세가'].corr(merged_data['범죄율등수'])\n",
        "\n",
        "# Perform linear regression (OLS)\n",
        "X = sm.add_constant(merged_data['범죄율등수'])\n",
        "y = merged_data['평당전세가']\n",
        "model = sm.OLS(y, X).fit()\n",
        "\n",
        "# Print the PCC and regression summary\n",
        "print(f\"Pearson Correlation Coefficient (PCC): {pcc:.2f}\\n\")\n",
        "print(\"Regression Summary:\")\n",
        "print(model.summary())\n"
      ],
      "metadata": {
        "colab": {
          "base_uri": "https://localhost:8080/"
        },
        "id": "Oqg5XuEldzHX",
        "outputId": "7012280f-5296-4cdb-f410-2d9d1b4963fe"
      },
      "execution_count": 8,
      "outputs": [
        {
          "output_type": "stream",
          "name": "stdout",
          "text": [
            "Pearson Correlation Coefficient (PCC): 0.00\n",
            "\n",
            "Regression Summary:\n",
            "                            OLS Regression Results                            \n",
            "==============================================================================\n",
            "Dep. Variable:                  평당전세가   R-squared:                      -0.000\n",
            "Model:                            OLS   Adj. R-squared:                 -0.000\n",
            "Method:                 Least Squares   F-statistic:                -2.789e-11\n",
            "Date:                Sun, 10 Sep 2023   Prob (F-statistic):               1.00\n",
            "Time:                        23:59:41   Log-Likelihood:            -1.9755e+05\n",
            "No. Observations:               34050   AIC:                         3.951e+05\n",
            "Df Residuals:                   34048   BIC:                         3.951e+05\n",
            "Df Model:                           1                                         \n",
            "Covariance Type:            nonrobust                                         \n",
            "==============================================================================\n",
            "                 coef    std err          t      P>|t|      [0.025      0.975]\n",
            "------------------------------------------------------------------------------\n",
            "const        164.3728      0.895    183.745      0.000     162.619     166.126\n",
            "범죄율등수      -1.418e-15      0.060  -2.36e-14      1.000      -0.118       0.118\n",
            "==============================================================================\n",
            "Omnibus:                     7551.134   Durbin-Watson:                   0.068\n",
            "Prob(Omnibus):                  0.000   Jarque-Bera (JB):            17812.362\n",
            "Skew:                           1.245   Prob(JB):                         0.00\n",
            "Kurtosis:                       5.520   Cond. No.                         30.8\n",
            "==============================================================================\n",
            "\n",
            "Notes:\n",
            "[1] Standard Errors assume that the covariance matrix of the errors is correctly specified.\n"
          ]
        }
      ]
    },
    {
      "cell_type": "code",
      "source": [
        "import pandas as pd\n",
        "import statsmodels.api as sm\n",
        "\n",
        "# Load your real estate dataset (replace 'your_real_estate_dataset.csv' with your actual file path)\n",
        "real_estate_data = pd.read_csv(\"/content/df_lease_deposit_3000.csv\", encoding='euc-kr')\n",
        "\n",
        "# Load your crime rate dataset (replace 'your_crime_rate_dataset.csv' with your actual file path)\n",
        "crime_rate_data = pd.read_csv(\"/content/재개발_전처리.csv\", encoding='euc-kr')\n",
        "\n",
        "# Merge the datasets on the common column '접수년도'\n",
        "merged_data = pd.merge(real_estate_data, crime_rate_data, on='접수년도', how='inner')\n",
        "\n",
        "# Calculate the Pearson Correlation Coefficient (PCC)\n",
        "pcc = merged_data['평당전세가'].corr(merged_data['재개발_가중치'])\n",
        "\n",
        "# Perform linear regression (OLS)\n",
        "X = sm.add_constant(merged_data['재개발_가중치'])\n",
        "y = merged_data['평당전세가']\n",
        "model = sm.OLS(y, X).fit()\n",
        "\n",
        "# Print the PCC and regression summary\n",
        "print(f\"Pearson Correlation Coefficient (PCC): {pcc:.2f}\\n\")\n",
        "print(\"Regression Summary:\")\n",
        "print(model.summary())\n"
      ],
      "metadata": {
        "colab": {
          "base_uri": "https://localhost:8080/"
        },
        "id": "9H78WcnRg--K",
        "outputId": "cbd97a63-44f6-4ec4-fd7d-1b9554ffa9eb"
      },
      "execution_count": 9,
      "outputs": [
        {
          "output_type": "stream",
          "name": "stdout",
          "text": [
            "Pearson Correlation Coefficient (PCC): 0.02\n",
            "\n",
            "Regression Summary:\n",
            "                            OLS Regression Results                            \n",
            "==============================================================================\n",
            "Dep. Variable:                  평당전세가   R-squared:                       0.000\n",
            "Model:                            OLS   Adj. R-squared:                  0.000\n",
            "Method:                 Least Squares   F-statistic:                     20.19\n",
            "Date:                Mon, 11 Sep 2023   Prob (F-statistic):           7.04e-06\n",
            "Time:                        00:01:45   Log-Likelihood:            -2.5697e+05\n",
            "No. Observations:               44425   AIC:                         5.139e+05\n",
            "Df Residuals:                   44423   BIC:                         5.140e+05\n",
            "Df Model:                           1                                         \n",
            "Covariance Type:            nonrobust                                         \n",
            "==============================================================================\n",
            "                 coef    std err          t      P>|t|      [0.025      0.975]\n",
            "------------------------------------------------------------------------------\n",
            "const        143.9268      0.728    197.625      0.000     142.499     145.354\n",
            "재개발_가중치        2.1959      0.489      4.493      0.000       1.238       3.154\n",
            "==============================================================================\n",
            "Omnibus:                    11347.065   Durbin-Watson:                   0.058\n",
            "Prob(Omnibus):                  0.000   Jarque-Bera (JB):            29489.960\n",
            "Skew:                           1.387   Prob(JB):                         0.00\n",
            "Kurtosis:                       5.870   Cond. No.                         3.96\n",
            "==============================================================================\n",
            "\n",
            "Notes:\n",
            "[1] Standard Errors assume that the covariance matrix of the errors is correctly specified.\n"
          ]
        }
      ]
    },
    {
      "cell_type": "code",
      "source": [],
      "metadata": {
        "id": "Ahs9SbDgi0nC"
      },
      "execution_count": null,
      "outputs": []
    }
  ]
}