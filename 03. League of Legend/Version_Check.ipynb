{
 "cells": [
  {
   "cell_type": "code",
   "execution_count": 3,
   "id": "490d7ab9-db7a-46fc-801c-b93fc4b71833",
   "metadata": {},
   "outputs": [
    {
     "name": "stdout",
     "output_type": "stream",
     "text": [
      "2.1.4\n",
      "1.26.2\n",
      "3.8.2\n",
      "0.13.0\n",
      "1.3.2\n",
      "1.11.4\n",
      "2.0.2\n",
      "2.31.0\n"
     ]
    }
   ],
   "source": [
    "import pandas\n",
    "import numpy\n",
    "import matplotlib\n",
    "import seaborn\n",
    "import sklearn\n",
    "import scipy\n",
    "import xgboost\n",
    "import requests\n",
    "\n",
    "print(pandas.__version__)\n",
    "print(numpy.__version__)\n",
    "print(matplotlib.__version__)\n",
    "print(seaborn.__version__)\n",
    "print(sklearn.__version__)\n",
    "print(scipy.__version__)\n",
    "print(xgboost.__version__)\n",
    "print(requests.__version__)"
   ]
  },
  {
   "cell_type": "code",
   "execution_count": 5,
   "id": "3e103597-1928-492a-99b6-3cebdaf29bea",
   "metadata": {},
   "outputs": [
    {
     "name": "stdout",
     "output_type": "stream",
     "text": [
      "Selected Jupyter core packages...\n",
      "IPython          : 8.18.1\n",
      "ipykernel        : 6.27.1\n",
      "ipywidgets       : 8.1.1\n",
      "jupyter_client   : 8.6.0\n",
      "jupyter_core     : 5.5.0\n",
      "jupyter_server   : 2.12.1\n",
      "jupyterlab       : 4.0.9\n",
      "nbclient         : 0.9.0\n",
      "nbconvert        : 7.12.0\n",
      "nbformat         : 5.9.2\n",
      "notebook         : 7.0.6\n",
      "qtconsole        : 5.5.1\n",
      "traitlets        : 5.14.0\n"
     ]
    }
   ],
   "source": [
    "!jupyter --version"
   ]
  },
  {
   "cell_type": "code",
   "execution_count": null,
   "id": "94894a4d-67ca-41e8-a45f-373977ac16ef",
   "metadata": {},
   "outputs": [],
   "source": []
  }
 ],
 "metadata": {
  "kernelspec": {
   "display_name": "Python 3 (ipykernel)",
   "language": "python",
   "name": "python3"
  },
  "language_info": {
   "codemirror_mode": {
    "name": "ipython",
    "version": 3
   },
   "file_extension": ".py",
   "mimetype": "text/x-python",
   "name": "python",
   "nbconvert_exporter": "python",
   "pygments_lexer": "ipython3",
   "version": "3.9.13"
  }
 },
 "nbformat": 4,
 "nbformat_minor": 5
}
