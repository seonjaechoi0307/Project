{
 "cells": [
  {
   "cell_type": "code",
   "execution_count": 2,
   "id": "bb86008b-900c-40ea-8c01-7bef25358151",
   "metadata": {},
   "outputs": [],
   "source": [
    "import requests\n",
    "import pandas as pd\n",
    "\n",
    "######## Library Version ########\n",
    "\n",
    "# pandas==2.1.4\n",
    "# numpy==1.26.2\n",
    "# matplotlib==3.8.2\n",
    "# seaborn==0.13.0\n",
    "# scikit-learn==1.3.2\n",
    "# scipy== 1.11.4\n",
    "# jupyter\n",
    "# xgboost==2.0.2\n",
    "# requests==2.31.0\n",
    "\n",
    "######## Library Version ########"
   ]
  },
  {
   "cell_type": "code",
   "execution_count": 7,
   "id": "ee29f9e8-a60d-4887-acb5-4d5db80aae9a",
   "metadata": {},
   "outputs": [
    {
     "name": "stdout",
     "output_type": "stream",
     "text": [
      "403\n",
      "챔피언 정보를 가져오는 데 실패했습니다.\n"
     ]
    }
   ],
   "source": [
    "# League of Legend API Key\n",
    "api_key = 'RGAPI-3b722db6-45bf-4b4c-9eb8-3dab3eb68595'\n",
    "\n",
    "# 챔피언 정보를 가져오기 위한 API 경로\n",
    "champion_url = f'https://kr.api.riotgames.com/lol/static-data/v4/champions?api_key={api_key}'\n",
    "\n",
    "# API 경로로 GET 요청 보내기\n",
    "response = requests.get(champion_url, headers={'Autorization': f'token {api_key}'})\n",
    "\n",
    "# GET 요청을 통해 챔피언 정보 가져오기\n",
    "response = requests.get(champion_url)\n",
    "\n",
    "# 요청이 성공했는지 확인 (상태 코드 200)\n",
    "if response.status_code == 200:\n",
    "    champion_data = response.json()\n",
    "    print(champion_data)  # 챔피언 정보 출력\n",
    "else:\n",
    "    print(response.status_code)\n",
    "    print('챔피언 정보를 가져오는 데 실패했습니다.')"
   ]
  },
  {
   "cell_type": "code",
   "execution_count": null,
   "id": "1a86b26b-99db-4fea-ad33-3aec2a23769b",
   "metadata": {},
   "outputs": [],
   "source": []
  }
 ],
 "metadata": {
  "kernelspec": {
   "display_name": "Python 3 (ipykernel)",
   "language": "python",
   "name": "python3"
  },
  "language_info": {
   "codemirror_mode": {
    "name": "ipython",
    "version": 3
   },
   "file_extension": ".py",
   "mimetype": "text/x-python",
   "name": "python",
   "nbconvert_exporter": "python",
   "pygments_lexer": "ipython3",
   "version": "3.9.13"
  }
 },
 "nbformat": 4,
 "nbformat_minor": 5
}
